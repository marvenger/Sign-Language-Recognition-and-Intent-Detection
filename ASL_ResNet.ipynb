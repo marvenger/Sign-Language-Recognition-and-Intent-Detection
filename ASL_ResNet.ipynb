{
  "metadata": {
    "kernelspec": {
      "language": "python",
      "display_name": "Python 3",
      "name": "python3"
    },
    "language_info": {
      "name": "python",
      "version": "3.7.12",
      "mimetype": "text/x-python",
      "codemirror_mode": {
        "name": "ipython",
        "version": 3
      },
      "pygments_lexer": "ipython3",
      "nbconvert_exporter": "python",
      "file_extension": ".py"
    },
    "colab": {
      "provenance": []
    },
    "accelerator": "GPU",
    "gpuClass": "standard"
  },
  "nbformat_minor": 0,
  "nbformat": 4,
  "cells": [
    {
      "cell_type": "markdown",
      "source": [
        "# <div style=\"color:#fff;display:fill;border-radius:10px;background-color:#0C2D48;text-align:center;letter-spacing:0.1px;overflow:hidden;padding:20px;color:white;overflow:hidden;margin:0;font-size:100%\">Content</div>\n",
        "   \n",
        "#### <span style='color:#2E8BC0'>1| </span>[loading the Data and quick look](#section-one) \n",
        "#### <span style='color:#2E8BC0'>2| </span> [Splitting and Reshaping the data](#section-two) \n",
        "#### <span style='color:#2E8BC0'>3| </span>[Visualize Some images](#section-three)\n",
        "#### <span style='color:#2E8BC0'>4| </span>[Recap of the Residual Neural networks](#section-four)\n",
        "#### <span style='color:#2E8BC0'>5| </span>[Building the Blocks and the ResNet](#section-fife) \n",
        "#### <span style='color:#2E8BC0'>6| </span>[Visualise model performance](#section-six) "
      ],
      "metadata": {
        "id": "JBiuLssCo_Pd"
      }
    },
    {
      "cell_type": "markdown",
      "source": [
        "<a id=\"section-one\"></a>\n",
        "# <div style=\"color:#fff;display:fill;border-radius:10px;background-color:#0C2D48;text-align:center;letter-spacing:0.1px;overflow:hidden;padding:20px;color:white;overflow:hidden;margin:0;font-size:100%\">Loading the Data and quick look</div>"
      ],
      "metadata": {
        "id": "TYiLfnHHo_Pe"
      }
    },
    {
      "cell_type": "code",
      "source": [
        "# importign the necessary libiraries \n",
        "import pandas as pd \n",
        "import numpy as np \n",
        "import plotly.express as px\n",
        "import matplotlib.pylab as plt\n",
        "from pandas.api.types import CategoricalDtype"
      ],
      "metadata": {
        "execution": {
          "iopub.status.busy": "2022-04-03T13:07:39.661995Z",
          "iopub.execute_input": "2022-04-03T13:07:39.662274Z",
          "iopub.status.idle": "2022-04-03T13:07:39.666548Z",
          "shell.execute_reply.started": "2022-04-03T13:07:39.662245Z",
          "shell.execute_reply": "2022-04-03T13:07:39.665588Z"
        },
        "trusted": true,
        "id": "wSBj0J1Po_Pf"
      },
      "execution_count": 3,
      "outputs": []
    },
    {
      "cell_type": "code",
      "source": [
        "# load the data \n",
        "train = pd.read_csv(\"sign_mnist_train.csv\")\n",
        "test = pd.read_csv(\"sign_mnist_test.csv\")"
      ],
      "metadata": {
        "execution": {
          "iopub.status.busy": "2022-04-03T13:07:39.908647Z",
          "iopub.execute_input": "2022-04-03T13:07:39.908854Z",
          "iopub.status.idle": "2022-04-03T13:07:43.100976Z",
          "shell.execute_reply.started": "2022-04-03T13:07:39.908830Z",
          "shell.execute_reply": "2022-04-03T13:07:43.100100Z"
        },
        "trusted": true,
        "id": "iadixp_no_Pf"
      },
      "execution_count": 4,
      "outputs": []
    },
    {
      "cell_type": "code",
      "source": [
        "# see the shape of the data \n",
        "print(f\" X_train shape: {train.shape}\")\n",
        "print(f\" X_test shape: {test.shape}\")"
      ],
      "metadata": {
        "execution": {
          "iopub.status.busy": "2022-04-03T13:07:43.102568Z",
          "iopub.execute_input": "2022-04-03T13:07:43.102899Z",
          "iopub.status.idle": "2022-04-03T13:07:43.113165Z",
          "shell.execute_reply.started": "2022-04-03T13:07:43.102862Z",
          "shell.execute_reply": "2022-04-03T13:07:43.112349Z"
        },
        "trusted": true,
        "colab": {
          "base_uri": "https://localhost:8080/"
        },
        "id": "5o6GgkrCo_Pf",
        "outputId": "b9fd2e44-cb58-46e7-a820-58a27a2135d2"
      },
      "execution_count": 5,
      "outputs": [
        {
          "output_type": "stream",
          "name": "stdout",
          "text": [
            " X_train shape: (27455, 785)\n",
            " X_test shape: (7172, 785)\n"
          ]
        }
      ]
    },
    {
      "cell_type": "markdown",
      "source": [
        "####  before getting hands dirty here is the problem\n",
        "- we want to make a model to recognize the digit from pixels [ image ] so `classification problem`\n",
        "- the data splitting must be at this \n",
        "     - `train data : to train the model on` \n",
        "     - `validation data :  to see the performance of the model and tune the model on` \n",
        "     - `test data : a blind hold data that the model never seen before to genelalize the model performance to launch`  "
      ],
      "metadata": {
        "id": "Mzlb_O5ao_Pg"
      }
    },
    {
      "cell_type": "code",
      "source": [
        "# have alook at the data \n",
        "train.head()"
      ],
      "metadata": {
        "execution": {
          "iopub.status.busy": "2022-04-03T13:07:43.114275Z",
          "iopub.execute_input": "2022-04-03T13:07:43.115190Z",
          "iopub.status.idle": "2022-04-03T13:07:43.134351Z",
          "shell.execute_reply.started": "2022-04-03T13:07:43.115140Z",
          "shell.execute_reply": "2022-04-03T13:07:43.133592Z"
        },
        "trusted": true,
        "colab": {
          "base_uri": "https://localhost:8080/",
          "height": 299
        },
        "id": "1JkzK3E3o_Pg",
        "outputId": "8e64ae0a-66cf-49be-c116-075e59249865"
      },
      "execution_count": 6,
      "outputs": [
        {
          "output_type": "execute_result",
          "data": {
            "text/plain": [
              "   label  pixel1  pixel2  pixel3  pixel4  pixel5  pixel6  pixel7  pixel8  \\\n",
              "0      3     107     118     127     134     139     143     146     150   \n",
              "1      6     155     157     156     156     156     157     156     158   \n",
              "2      2     187     188     188     187     187     186     187     188   \n",
              "3      2     211     211     212     212     211     210     211     210   \n",
              "4     13     164     167     170     172     176     179     180     184   \n",
              "\n",
              "   pixel9  ...  pixel775  pixel776  pixel777  pixel778  pixel779  pixel780  \\\n",
              "0     153  ...       207       207       207       207       206       206   \n",
              "1     158  ...        69       149       128        87        94       163   \n",
              "2     187  ...       202       201       200       199       198       199   \n",
              "3     210  ...       235       234       233       231       230       226   \n",
              "4     185  ...        92       105       105       108       133       163   \n",
              "\n",
              "   pixel781  pixel782  pixel783  pixel784  \n",
              "0       206       204       203       202  \n",
              "1       175       103       135       149  \n",
              "2       198       195       194       195  \n",
              "3       225       222       229       163  \n",
              "4       157       163       164       179  \n",
              "\n",
              "[5 rows x 785 columns]"
            ],
            "text/html": [
              "\n",
              "  <div id=\"df-6137b4ae-8812-4e65-88a1-6ae1fe7f1722\">\n",
              "    <div class=\"colab-df-container\">\n",
              "      <div>\n",
              "<style scoped>\n",
              "    .dataframe tbody tr th:only-of-type {\n",
              "        vertical-align: middle;\n",
              "    }\n",
              "\n",
              "    .dataframe tbody tr th {\n",
              "        vertical-align: top;\n",
              "    }\n",
              "\n",
              "    .dataframe thead th {\n",
              "        text-align: right;\n",
              "    }\n",
              "</style>\n",
              "<table border=\"1\" class=\"dataframe\">\n",
              "  <thead>\n",
              "    <tr style=\"text-align: right;\">\n",
              "      <th></th>\n",
              "      <th>label</th>\n",
              "      <th>pixel1</th>\n",
              "      <th>pixel2</th>\n",
              "      <th>pixel3</th>\n",
              "      <th>pixel4</th>\n",
              "      <th>pixel5</th>\n",
              "      <th>pixel6</th>\n",
              "      <th>pixel7</th>\n",
              "      <th>pixel8</th>\n",
              "      <th>pixel9</th>\n",
              "      <th>...</th>\n",
              "      <th>pixel775</th>\n",
              "      <th>pixel776</th>\n",
              "      <th>pixel777</th>\n",
              "      <th>pixel778</th>\n",
              "      <th>pixel779</th>\n",
              "      <th>pixel780</th>\n",
              "      <th>pixel781</th>\n",
              "      <th>pixel782</th>\n",
              "      <th>pixel783</th>\n",
              "      <th>pixel784</th>\n",
              "    </tr>\n",
              "  </thead>\n",
              "  <tbody>\n",
              "    <tr>\n",
              "      <th>0</th>\n",
              "      <td>3</td>\n",
              "      <td>107</td>\n",
              "      <td>118</td>\n",
              "      <td>127</td>\n",
              "      <td>134</td>\n",
              "      <td>139</td>\n",
              "      <td>143</td>\n",
              "      <td>146</td>\n",
              "      <td>150</td>\n",
              "      <td>153</td>\n",
              "      <td>...</td>\n",
              "      <td>207</td>\n",
              "      <td>207</td>\n",
              "      <td>207</td>\n",
              "      <td>207</td>\n",
              "      <td>206</td>\n",
              "      <td>206</td>\n",
              "      <td>206</td>\n",
              "      <td>204</td>\n",
              "      <td>203</td>\n",
              "      <td>202</td>\n",
              "    </tr>\n",
              "    <tr>\n",
              "      <th>1</th>\n",
              "      <td>6</td>\n",
              "      <td>155</td>\n",
              "      <td>157</td>\n",
              "      <td>156</td>\n",
              "      <td>156</td>\n",
              "      <td>156</td>\n",
              "      <td>157</td>\n",
              "      <td>156</td>\n",
              "      <td>158</td>\n",
              "      <td>158</td>\n",
              "      <td>...</td>\n",
              "      <td>69</td>\n",
              "      <td>149</td>\n",
              "      <td>128</td>\n",
              "      <td>87</td>\n",
              "      <td>94</td>\n",
              "      <td>163</td>\n",
              "      <td>175</td>\n",
              "      <td>103</td>\n",
              "      <td>135</td>\n",
              "      <td>149</td>\n",
              "    </tr>\n",
              "    <tr>\n",
              "      <th>2</th>\n",
              "      <td>2</td>\n",
              "      <td>187</td>\n",
              "      <td>188</td>\n",
              "      <td>188</td>\n",
              "      <td>187</td>\n",
              "      <td>187</td>\n",
              "      <td>186</td>\n",
              "      <td>187</td>\n",
              "      <td>188</td>\n",
              "      <td>187</td>\n",
              "      <td>...</td>\n",
              "      <td>202</td>\n",
              "      <td>201</td>\n",
              "      <td>200</td>\n",
              "      <td>199</td>\n",
              "      <td>198</td>\n",
              "      <td>199</td>\n",
              "      <td>198</td>\n",
              "      <td>195</td>\n",
              "      <td>194</td>\n",
              "      <td>195</td>\n",
              "    </tr>\n",
              "    <tr>\n",
              "      <th>3</th>\n",
              "      <td>2</td>\n",
              "      <td>211</td>\n",
              "      <td>211</td>\n",
              "      <td>212</td>\n",
              "      <td>212</td>\n",
              "      <td>211</td>\n",
              "      <td>210</td>\n",
              "      <td>211</td>\n",
              "      <td>210</td>\n",
              "      <td>210</td>\n",
              "      <td>...</td>\n",
              "      <td>235</td>\n",
              "      <td>234</td>\n",
              "      <td>233</td>\n",
              "      <td>231</td>\n",
              "      <td>230</td>\n",
              "      <td>226</td>\n",
              "      <td>225</td>\n",
              "      <td>222</td>\n",
              "      <td>229</td>\n",
              "      <td>163</td>\n",
              "    </tr>\n",
              "    <tr>\n",
              "      <th>4</th>\n",
              "      <td>13</td>\n",
              "      <td>164</td>\n",
              "      <td>167</td>\n",
              "      <td>170</td>\n",
              "      <td>172</td>\n",
              "      <td>176</td>\n",
              "      <td>179</td>\n",
              "      <td>180</td>\n",
              "      <td>184</td>\n",
              "      <td>185</td>\n",
              "      <td>...</td>\n",
              "      <td>92</td>\n",
              "      <td>105</td>\n",
              "      <td>105</td>\n",
              "      <td>108</td>\n",
              "      <td>133</td>\n",
              "      <td>163</td>\n",
              "      <td>157</td>\n",
              "      <td>163</td>\n",
              "      <td>164</td>\n",
              "      <td>179</td>\n",
              "    </tr>\n",
              "  </tbody>\n",
              "</table>\n",
              "<p>5 rows × 785 columns</p>\n",
              "</div>\n",
              "      <button class=\"colab-df-convert\" onclick=\"convertToInteractive('df-6137b4ae-8812-4e65-88a1-6ae1fe7f1722')\"\n",
              "              title=\"Convert this dataframe to an interactive table.\"\n",
              "              style=\"display:none;\">\n",
              "        \n",
              "  <svg xmlns=\"http://www.w3.org/2000/svg\" height=\"24px\"viewBox=\"0 0 24 24\"\n",
              "       width=\"24px\">\n",
              "    <path d=\"M0 0h24v24H0V0z\" fill=\"none\"/>\n",
              "    <path d=\"M18.56 5.44l.94 2.06.94-2.06 2.06-.94-2.06-.94-.94-2.06-.94 2.06-2.06.94zm-11 1L8.5 8.5l.94-2.06 2.06-.94-2.06-.94L8.5 2.5l-.94 2.06-2.06.94zm10 10l.94 2.06.94-2.06 2.06-.94-2.06-.94-.94-2.06-.94 2.06-2.06.94z\"/><path d=\"M17.41 7.96l-1.37-1.37c-.4-.4-.92-.59-1.43-.59-.52 0-1.04.2-1.43.59L10.3 9.45l-7.72 7.72c-.78.78-.78 2.05 0 2.83L4 21.41c.39.39.9.59 1.41.59.51 0 1.02-.2 1.41-.59l7.78-7.78 2.81-2.81c.8-.78.8-2.07 0-2.86zM5.41 20L4 18.59l7.72-7.72 1.47 1.35L5.41 20z\"/>\n",
              "  </svg>\n",
              "      </button>\n",
              "      \n",
              "  <style>\n",
              "    .colab-df-container {\n",
              "      display:flex;\n",
              "      flex-wrap:wrap;\n",
              "      gap: 12px;\n",
              "    }\n",
              "\n",
              "    .colab-df-convert {\n",
              "      background-color: #E8F0FE;\n",
              "      border: none;\n",
              "      border-radius: 50%;\n",
              "      cursor: pointer;\n",
              "      display: none;\n",
              "      fill: #1967D2;\n",
              "      height: 32px;\n",
              "      padding: 0 0 0 0;\n",
              "      width: 32px;\n",
              "    }\n",
              "\n",
              "    .colab-df-convert:hover {\n",
              "      background-color: #E2EBFA;\n",
              "      box-shadow: 0px 1px 2px rgba(60, 64, 67, 0.3), 0px 1px 3px 1px rgba(60, 64, 67, 0.15);\n",
              "      fill: #174EA6;\n",
              "    }\n",
              "\n",
              "    [theme=dark] .colab-df-convert {\n",
              "      background-color: #3B4455;\n",
              "      fill: #D2E3FC;\n",
              "    }\n",
              "\n",
              "    [theme=dark] .colab-df-convert:hover {\n",
              "      background-color: #434B5C;\n",
              "      box-shadow: 0px 1px 3px 1px rgba(0, 0, 0, 0.15);\n",
              "      filter: drop-shadow(0px 1px 2px rgba(0, 0, 0, 0.3));\n",
              "      fill: #FFFFFF;\n",
              "    }\n",
              "  </style>\n",
              "\n",
              "      <script>\n",
              "        const buttonEl =\n",
              "          document.querySelector('#df-6137b4ae-8812-4e65-88a1-6ae1fe7f1722 button.colab-df-convert');\n",
              "        buttonEl.style.display =\n",
              "          google.colab.kernel.accessAllowed ? 'block' : 'none';\n",
              "\n",
              "        async function convertToInteractive(key) {\n",
              "          const element = document.querySelector('#df-6137b4ae-8812-4e65-88a1-6ae1fe7f1722');\n",
              "          const dataTable =\n",
              "            await google.colab.kernel.invokeFunction('convertToInteractive',\n",
              "                                                     [key], {});\n",
              "          if (!dataTable) return;\n",
              "\n",
              "          const docLinkHtml = 'Like what you see? Visit the ' +\n",
              "            '<a target=\"_blank\" href=https://colab.research.google.com/notebooks/data_table.ipynb>data table notebook</a>'\n",
              "            + ' to learn more about interactive tables.';\n",
              "          element.innerHTML = '';\n",
              "          dataTable['output_type'] = 'display_data';\n",
              "          await google.colab.output.renderOutput(dataTable, element);\n",
              "          const docLink = document.createElement('div');\n",
              "          docLink.innerHTML = docLinkHtml;\n",
              "          element.appendChild(docLink);\n",
              "        }\n",
              "      </script>\n",
              "    </div>\n",
              "  </div>\n",
              "  "
            ]
          },
          "metadata": {},
          "execution_count": 6
        }
      ]
    },
    {
      "cell_type": "code",
      "source": [
        "test.head() "
      ],
      "metadata": {
        "execution": {
          "iopub.status.busy": "2022-04-03T13:07:43.136176Z",
          "iopub.execute_input": "2022-04-03T13:07:43.136598Z",
          "iopub.status.idle": "2022-04-03T13:07:43.156134Z",
          "shell.execute_reply.started": "2022-04-03T13:07:43.136561Z",
          "shell.execute_reply": "2022-04-03T13:07:43.155458Z"
        },
        "trusted": true,
        "colab": {
          "base_uri": "https://localhost:8080/",
          "height": 299
        },
        "id": "IpLmtruxo_Pg",
        "outputId": "943154af-4cf3-4762-f13c-7094d2d85cfa"
      },
      "execution_count": 7,
      "outputs": [
        {
          "output_type": "execute_result",
          "data": {
            "text/plain": [
              "   label  pixel1  pixel2  pixel3  pixel4  pixel5  pixel6  pixel7  pixel8  \\\n",
              "0      6     149     149     150     150     150     151     151     150   \n",
              "1      5     126     128     131     132     133     134     135     135   \n",
              "2     10      85      88      92      96     105     123     135     143   \n",
              "3      0     203     205     207     206     207     209     210     209   \n",
              "4      3     188     191     193     195     199     201     202     203   \n",
              "\n",
              "   pixel9  ...  pixel775  pixel776  pixel777  pixel778  pixel779  pixel780  \\\n",
              "0     151  ...       138       148       127        89        82        96   \n",
              "1     136  ...        47       104       194       183       186       184   \n",
              "2     147  ...        68       166       242       227       230       227   \n",
              "3     210  ...       154       248       247       248       253       236   \n",
              "4     203  ...        26        40        64        48        29        46   \n",
              "\n",
              "   pixel781  pixel782  pixel783  pixel784  \n",
              "0       106       112       120       107  \n",
              "1       184       184       182       180  \n",
              "2       226       225       224       222  \n",
              "3       230       240       253       255  \n",
              "4        49        46        46        53  \n",
              "\n",
              "[5 rows x 785 columns]"
            ],
            "text/html": [
              "\n",
              "  <div id=\"df-7e52c3c9-011a-42af-9be7-45b129b7a888\">\n",
              "    <div class=\"colab-df-container\">\n",
              "      <div>\n",
              "<style scoped>\n",
              "    .dataframe tbody tr th:only-of-type {\n",
              "        vertical-align: middle;\n",
              "    }\n",
              "\n",
              "    .dataframe tbody tr th {\n",
              "        vertical-align: top;\n",
              "    }\n",
              "\n",
              "    .dataframe thead th {\n",
              "        text-align: right;\n",
              "    }\n",
              "</style>\n",
              "<table border=\"1\" class=\"dataframe\">\n",
              "  <thead>\n",
              "    <tr style=\"text-align: right;\">\n",
              "      <th></th>\n",
              "      <th>label</th>\n",
              "      <th>pixel1</th>\n",
              "      <th>pixel2</th>\n",
              "      <th>pixel3</th>\n",
              "      <th>pixel4</th>\n",
              "      <th>pixel5</th>\n",
              "      <th>pixel6</th>\n",
              "      <th>pixel7</th>\n",
              "      <th>pixel8</th>\n",
              "      <th>pixel9</th>\n",
              "      <th>...</th>\n",
              "      <th>pixel775</th>\n",
              "      <th>pixel776</th>\n",
              "      <th>pixel777</th>\n",
              "      <th>pixel778</th>\n",
              "      <th>pixel779</th>\n",
              "      <th>pixel780</th>\n",
              "      <th>pixel781</th>\n",
              "      <th>pixel782</th>\n",
              "      <th>pixel783</th>\n",
              "      <th>pixel784</th>\n",
              "    </tr>\n",
              "  </thead>\n",
              "  <tbody>\n",
              "    <tr>\n",
              "      <th>0</th>\n",
              "      <td>6</td>\n",
              "      <td>149</td>\n",
              "      <td>149</td>\n",
              "      <td>150</td>\n",
              "      <td>150</td>\n",
              "      <td>150</td>\n",
              "      <td>151</td>\n",
              "      <td>151</td>\n",
              "      <td>150</td>\n",
              "      <td>151</td>\n",
              "      <td>...</td>\n",
              "      <td>138</td>\n",
              "      <td>148</td>\n",
              "      <td>127</td>\n",
              "      <td>89</td>\n",
              "      <td>82</td>\n",
              "      <td>96</td>\n",
              "      <td>106</td>\n",
              "      <td>112</td>\n",
              "      <td>120</td>\n",
              "      <td>107</td>\n",
              "    </tr>\n",
              "    <tr>\n",
              "      <th>1</th>\n",
              "      <td>5</td>\n",
              "      <td>126</td>\n",
              "      <td>128</td>\n",
              "      <td>131</td>\n",
              "      <td>132</td>\n",
              "      <td>133</td>\n",
              "      <td>134</td>\n",
              "      <td>135</td>\n",
              "      <td>135</td>\n",
              "      <td>136</td>\n",
              "      <td>...</td>\n",
              "      <td>47</td>\n",
              "      <td>104</td>\n",
              "      <td>194</td>\n",
              "      <td>183</td>\n",
              "      <td>186</td>\n",
              "      <td>184</td>\n",
              "      <td>184</td>\n",
              "      <td>184</td>\n",
              "      <td>182</td>\n",
              "      <td>180</td>\n",
              "    </tr>\n",
              "    <tr>\n",
              "      <th>2</th>\n",
              "      <td>10</td>\n",
              "      <td>85</td>\n",
              "      <td>88</td>\n",
              "      <td>92</td>\n",
              "      <td>96</td>\n",
              "      <td>105</td>\n",
              "      <td>123</td>\n",
              "      <td>135</td>\n",
              "      <td>143</td>\n",
              "      <td>147</td>\n",
              "      <td>...</td>\n",
              "      <td>68</td>\n",
              "      <td>166</td>\n",
              "      <td>242</td>\n",
              "      <td>227</td>\n",
              "      <td>230</td>\n",
              "      <td>227</td>\n",
              "      <td>226</td>\n",
              "      <td>225</td>\n",
              "      <td>224</td>\n",
              "      <td>222</td>\n",
              "    </tr>\n",
              "    <tr>\n",
              "      <th>3</th>\n",
              "      <td>0</td>\n",
              "      <td>203</td>\n",
              "      <td>205</td>\n",
              "      <td>207</td>\n",
              "      <td>206</td>\n",
              "      <td>207</td>\n",
              "      <td>209</td>\n",
              "      <td>210</td>\n",
              "      <td>209</td>\n",
              "      <td>210</td>\n",
              "      <td>...</td>\n",
              "      <td>154</td>\n",
              "      <td>248</td>\n",
              "      <td>247</td>\n",
              "      <td>248</td>\n",
              "      <td>253</td>\n",
              "      <td>236</td>\n",
              "      <td>230</td>\n",
              "      <td>240</td>\n",
              "      <td>253</td>\n",
              "      <td>255</td>\n",
              "    </tr>\n",
              "    <tr>\n",
              "      <th>4</th>\n",
              "      <td>3</td>\n",
              "      <td>188</td>\n",
              "      <td>191</td>\n",
              "      <td>193</td>\n",
              "      <td>195</td>\n",
              "      <td>199</td>\n",
              "      <td>201</td>\n",
              "      <td>202</td>\n",
              "      <td>203</td>\n",
              "      <td>203</td>\n",
              "      <td>...</td>\n",
              "      <td>26</td>\n",
              "      <td>40</td>\n",
              "      <td>64</td>\n",
              "      <td>48</td>\n",
              "      <td>29</td>\n",
              "      <td>46</td>\n",
              "      <td>49</td>\n",
              "      <td>46</td>\n",
              "      <td>46</td>\n",
              "      <td>53</td>\n",
              "    </tr>\n",
              "  </tbody>\n",
              "</table>\n",
              "<p>5 rows × 785 columns</p>\n",
              "</div>\n",
              "      <button class=\"colab-df-convert\" onclick=\"convertToInteractive('df-7e52c3c9-011a-42af-9be7-45b129b7a888')\"\n",
              "              title=\"Convert this dataframe to an interactive table.\"\n",
              "              style=\"display:none;\">\n",
              "        \n",
              "  <svg xmlns=\"http://www.w3.org/2000/svg\" height=\"24px\"viewBox=\"0 0 24 24\"\n",
              "       width=\"24px\">\n",
              "    <path d=\"M0 0h24v24H0V0z\" fill=\"none\"/>\n",
              "    <path d=\"M18.56 5.44l.94 2.06.94-2.06 2.06-.94-2.06-.94-.94-2.06-.94 2.06-2.06.94zm-11 1L8.5 8.5l.94-2.06 2.06-.94-2.06-.94L8.5 2.5l-.94 2.06-2.06.94zm10 10l.94 2.06.94-2.06 2.06-.94-2.06-.94-.94-2.06-.94 2.06-2.06.94z\"/><path d=\"M17.41 7.96l-1.37-1.37c-.4-.4-.92-.59-1.43-.59-.52 0-1.04.2-1.43.59L10.3 9.45l-7.72 7.72c-.78.78-.78 2.05 0 2.83L4 21.41c.39.39.9.59 1.41.59.51 0 1.02-.2 1.41-.59l7.78-7.78 2.81-2.81c.8-.78.8-2.07 0-2.86zM5.41 20L4 18.59l7.72-7.72 1.47 1.35L5.41 20z\"/>\n",
              "  </svg>\n",
              "      </button>\n",
              "      \n",
              "  <style>\n",
              "    .colab-df-container {\n",
              "      display:flex;\n",
              "      flex-wrap:wrap;\n",
              "      gap: 12px;\n",
              "    }\n",
              "\n",
              "    .colab-df-convert {\n",
              "      background-color: #E8F0FE;\n",
              "      border: none;\n",
              "      border-radius: 50%;\n",
              "      cursor: pointer;\n",
              "      display: none;\n",
              "      fill: #1967D2;\n",
              "      height: 32px;\n",
              "      padding: 0 0 0 0;\n",
              "      width: 32px;\n",
              "    }\n",
              "\n",
              "    .colab-df-convert:hover {\n",
              "      background-color: #E2EBFA;\n",
              "      box-shadow: 0px 1px 2px rgba(60, 64, 67, 0.3), 0px 1px 3px 1px rgba(60, 64, 67, 0.15);\n",
              "      fill: #174EA6;\n",
              "    }\n",
              "\n",
              "    [theme=dark] .colab-df-convert {\n",
              "      background-color: #3B4455;\n",
              "      fill: #D2E3FC;\n",
              "    }\n",
              "\n",
              "    [theme=dark] .colab-df-convert:hover {\n",
              "      background-color: #434B5C;\n",
              "      box-shadow: 0px 1px 3px 1px rgba(0, 0, 0, 0.15);\n",
              "      filter: drop-shadow(0px 1px 2px rgba(0, 0, 0, 0.3));\n",
              "      fill: #FFFFFF;\n",
              "    }\n",
              "  </style>\n",
              "\n",
              "      <script>\n",
              "        const buttonEl =\n",
              "          document.querySelector('#df-7e52c3c9-011a-42af-9be7-45b129b7a888 button.colab-df-convert');\n",
              "        buttonEl.style.display =\n",
              "          google.colab.kernel.accessAllowed ? 'block' : 'none';\n",
              "\n",
              "        async function convertToInteractive(key) {\n",
              "          const element = document.querySelector('#df-7e52c3c9-011a-42af-9be7-45b129b7a888');\n",
              "          const dataTable =\n",
              "            await google.colab.kernel.invokeFunction('convertToInteractive',\n",
              "                                                     [key], {});\n",
              "          if (!dataTable) return;\n",
              "\n",
              "          const docLinkHtml = 'Like what you see? Visit the ' +\n",
              "            '<a target=\"_blank\" href=https://colab.research.google.com/notebooks/data_table.ipynb>data table notebook</a>'\n",
              "            + ' to learn more about interactive tables.';\n",
              "          element.innerHTML = '';\n",
              "          dataTable['output_type'] = 'display_data';\n",
              "          await google.colab.output.renderOutput(dataTable, element);\n",
              "          const docLink = document.createElement('div');\n",
              "          docLink.innerHTML = docLinkHtml;\n",
              "          element.appendChild(docLink);\n",
              "        }\n",
              "      </script>\n",
              "    </div>\n",
              "  </div>\n",
              "  "
            ]
          },
          "metadata": {},
          "execution_count": 7
        }
      ]
    },
    {
      "cell_type": "code",
      "source": [
        "labels = train[\"label\"].value_counts().sort_index(ascending=True)\n",
        "labels "
      ],
      "metadata": {
        "execution": {
          "iopub.status.busy": "2022-04-03T13:07:43.157408Z",
          "iopub.execute_input": "2022-04-03T13:07:43.157866Z",
          "iopub.status.idle": "2022-04-03T13:07:43.167774Z",
          "shell.execute_reply.started": "2022-04-03T13:07:43.157815Z",
          "shell.execute_reply": "2022-04-03T13:07:43.166775Z"
        },
        "trusted": true,
        "colab": {
          "base_uri": "https://localhost:8080/"
        },
        "id": "7BSIl3CAo_Ph",
        "outputId": "73992a11-f57c-41bf-a6d4-675b64d0abb3"
      },
      "execution_count": 8,
      "outputs": [
        {
          "output_type": "execute_result",
          "data": {
            "text/plain": [
              "0     1126\n",
              "1     1010\n",
              "2     1144\n",
              "3     1196\n",
              "4      957\n",
              "5     1204\n",
              "6     1090\n",
              "7     1013\n",
              "8     1162\n",
              "10    1114\n",
              "11    1241\n",
              "12    1055\n",
              "13    1151\n",
              "14    1196\n",
              "15    1088\n",
              "16    1279\n",
              "17    1294\n",
              "18    1199\n",
              "19    1186\n",
              "20    1161\n",
              "21    1082\n",
              "22    1225\n",
              "23    1164\n",
              "24    1118\n",
              "Name: label, dtype: int64"
            ]
          },
          "metadata": {},
          "execution_count": 8
        }
      ]
    },
    {
      "cell_type": "code",
      "source": [
        "# see the labels \n",
        "fig=px.bar(x=labels.index , y=labels.values,title=\"Labels and thier images\",\n",
        "       labels={\"x\":\"Label\",\"y\":\"Number of Images\"},\n",
        "       text=labels.values,\n",
        "       color_discrete_sequence=[\"#ccc\"],\n",
        "           \n",
        "      )\n",
        "fig.update_layout(title_x=.5,title_font_color=\"#fff\",title_font_size=20,paper_bgcolor=\"#334e5c\",font_color=\"#fff\",\n",
        "                 plot_bgcolor=\"#0C2D48\",\n",
        "                   xaxis = dict(\n",
        "                    tickmode = 'linear',\n",
        "#                     tickvals  =list(range(0,len(labels))),\n",
        "                    ticktext= labels.index\n",
        "                     )\n",
        "                 )\n",
        "fig.update_yaxes(showgrid=False)\n",
        "fig.show()\n"
      ],
      "metadata": {
        "execution": {
          "iopub.status.busy": "2022-04-03T13:07:43.169404Z",
          "iopub.execute_input": "2022-04-03T13:07:43.169963Z",
          "iopub.status.idle": "2022-04-03T13:07:43.236657Z",
          "shell.execute_reply.started": "2022-04-03T13:07:43.169924Z",
          "shell.execute_reply": "2022-04-03T13:07:43.235933Z"
        },
        "trusted": true,
        "colab": {
          "base_uri": "https://localhost:8080/",
          "height": 542
        },
        "id": "k-i0hffao_Ph",
        "outputId": "f518d5ce-8888-40c6-e41a-36ac39f4520d"
      },
      "execution_count": 9,
      "outputs": [
        {
          "output_type": "display_data",
          "data": {
            "text/html": [
              "<html>\n",
              "<head><meta charset=\"utf-8\" /></head>\n",
              "<body>\n",
              "    <div>            <script src=\"https://cdnjs.cloudflare.com/ajax/libs/mathjax/2.7.5/MathJax.js?config=TeX-AMS-MML_SVG\"></script><script type=\"text/javascript\">if (window.MathJax && window.MathJax.Hub && window.MathJax.Hub.Config) {window.MathJax.Hub.Config({SVG: {font: \"STIX-Web\"}});}</script>                <script type=\"text/javascript\">window.PlotlyConfig = {MathJaxConfig: 'local'};</script>\n",
              "        <script src=\"https://cdn.plot.ly/plotly-2.18.2.min.js\"></script>                <div id=\"8f3db0df-aceb-484d-a2f7-4fedb9617e10\" class=\"plotly-graph-div\" style=\"height:525px; width:100%;\"></div>            <script type=\"text/javascript\">                                    window.PLOTLYENV=window.PLOTLYENV || {};                                    if (document.getElementById(\"8f3db0df-aceb-484d-a2f7-4fedb9617e10\")) {                    Plotly.newPlot(                        \"8f3db0df-aceb-484d-a2f7-4fedb9617e10\",                        [{\"alignmentgroup\":\"True\",\"hovertemplate\":\"Label=%{x}<br>Number of Images=%{y}<br>text=%{text}<extra></extra>\",\"legendgroup\":\"\",\"marker\":{\"color\":\"#ccc\",\"pattern\":{\"shape\":\"\"}},\"name\":\"\",\"offsetgroup\":\"\",\"orientation\":\"v\",\"showlegend\":false,\"text\":[1126.0,1010.0,1144.0,1196.0,957.0,1204.0,1090.0,1013.0,1162.0,1114.0,1241.0,1055.0,1151.0,1196.0,1088.0,1279.0,1294.0,1199.0,1186.0,1161.0,1082.0,1225.0,1164.0,1118.0],\"textposition\":\"auto\",\"x\":[0,1,2,3,4,5,6,7,8,10,11,12,13,14,15,16,17,18,19,20,21,22,23,24],\"xaxis\":\"x\",\"y\":[1126,1010,1144,1196,957,1204,1090,1013,1162,1114,1241,1055,1151,1196,1088,1279,1294,1199,1186,1161,1082,1225,1164,1118],\"yaxis\":\"y\",\"type\":\"bar\"}],                        {\"template\":{\"data\":{\"histogram2dcontour\":[{\"type\":\"histogram2dcontour\",\"colorbar\":{\"outlinewidth\":0,\"ticks\":\"\"},\"colorscale\":[[0.0,\"#0d0887\"],[0.1111111111111111,\"#46039f\"],[0.2222222222222222,\"#7201a8\"],[0.3333333333333333,\"#9c179e\"],[0.4444444444444444,\"#bd3786\"],[0.5555555555555556,\"#d8576b\"],[0.6666666666666666,\"#ed7953\"],[0.7777777777777778,\"#fb9f3a\"],[0.8888888888888888,\"#fdca26\"],[1.0,\"#f0f921\"]]}],\"choropleth\":[{\"type\":\"choropleth\",\"colorbar\":{\"outlinewidth\":0,\"ticks\":\"\"}}],\"histogram2d\":[{\"type\":\"histogram2d\",\"colorbar\":{\"outlinewidth\":0,\"ticks\":\"\"},\"colorscale\":[[0.0,\"#0d0887\"],[0.1111111111111111,\"#46039f\"],[0.2222222222222222,\"#7201a8\"],[0.3333333333333333,\"#9c179e\"],[0.4444444444444444,\"#bd3786\"],[0.5555555555555556,\"#d8576b\"],[0.6666666666666666,\"#ed7953\"],[0.7777777777777778,\"#fb9f3a\"],[0.8888888888888888,\"#fdca26\"],[1.0,\"#f0f921\"]]}],\"heatmap\":[{\"type\":\"heatmap\",\"colorbar\":{\"outlinewidth\":0,\"ticks\":\"\"},\"colorscale\":[[0.0,\"#0d0887\"],[0.1111111111111111,\"#46039f\"],[0.2222222222222222,\"#7201a8\"],[0.3333333333333333,\"#9c179e\"],[0.4444444444444444,\"#bd3786\"],[0.5555555555555556,\"#d8576b\"],[0.6666666666666666,\"#ed7953\"],[0.7777777777777778,\"#fb9f3a\"],[0.8888888888888888,\"#fdca26\"],[1.0,\"#f0f921\"]]}],\"heatmapgl\":[{\"type\":\"heatmapgl\",\"colorbar\":{\"outlinewidth\":0,\"ticks\":\"\"},\"colorscale\":[[0.0,\"#0d0887\"],[0.1111111111111111,\"#46039f\"],[0.2222222222222222,\"#7201a8\"],[0.3333333333333333,\"#9c179e\"],[0.4444444444444444,\"#bd3786\"],[0.5555555555555556,\"#d8576b\"],[0.6666666666666666,\"#ed7953\"],[0.7777777777777778,\"#fb9f3a\"],[0.8888888888888888,\"#fdca26\"],[1.0,\"#f0f921\"]]}],\"contourcarpet\":[{\"type\":\"contourcarpet\",\"colorbar\":{\"outlinewidth\":0,\"ticks\":\"\"}}],\"contour\":[{\"type\":\"contour\",\"colorbar\":{\"outlinewidth\":0,\"ticks\":\"\"},\"colorscale\":[[0.0,\"#0d0887\"],[0.1111111111111111,\"#46039f\"],[0.2222222222222222,\"#7201a8\"],[0.3333333333333333,\"#9c179e\"],[0.4444444444444444,\"#bd3786\"],[0.5555555555555556,\"#d8576b\"],[0.6666666666666666,\"#ed7953\"],[0.7777777777777778,\"#fb9f3a\"],[0.8888888888888888,\"#fdca26\"],[1.0,\"#f0f921\"]]}],\"surface\":[{\"type\":\"surface\",\"colorbar\":{\"outlinewidth\":0,\"ticks\":\"\"},\"colorscale\":[[0.0,\"#0d0887\"],[0.1111111111111111,\"#46039f\"],[0.2222222222222222,\"#7201a8\"],[0.3333333333333333,\"#9c179e\"],[0.4444444444444444,\"#bd3786\"],[0.5555555555555556,\"#d8576b\"],[0.6666666666666666,\"#ed7953\"],[0.7777777777777778,\"#fb9f3a\"],[0.8888888888888888,\"#fdca26\"],[1.0,\"#f0f921\"]]}],\"mesh3d\":[{\"type\":\"mesh3d\",\"colorbar\":{\"outlinewidth\":0,\"ticks\":\"\"}}],\"scatter\":[{\"fillpattern\":{\"fillmode\":\"overlay\",\"size\":10,\"solidity\":0.2},\"type\":\"scatter\"}],\"parcoords\":[{\"type\":\"parcoords\",\"line\":{\"colorbar\":{\"outlinewidth\":0,\"ticks\":\"\"}}}],\"scatterpolargl\":[{\"type\":\"scatterpolargl\",\"marker\":{\"colorbar\":{\"outlinewidth\":0,\"ticks\":\"\"}}}],\"bar\":[{\"error_x\":{\"color\":\"#2a3f5f\"},\"error_y\":{\"color\":\"#2a3f5f\"},\"marker\":{\"line\":{\"color\":\"#E5ECF6\",\"width\":0.5},\"pattern\":{\"fillmode\":\"overlay\",\"size\":10,\"solidity\":0.2}},\"type\":\"bar\"}],\"scattergeo\":[{\"type\":\"scattergeo\",\"marker\":{\"colorbar\":{\"outlinewidth\":0,\"ticks\":\"\"}}}],\"scatterpolar\":[{\"type\":\"scatterpolar\",\"marker\":{\"colorbar\":{\"outlinewidth\":0,\"ticks\":\"\"}}}],\"histogram\":[{\"marker\":{\"pattern\":{\"fillmode\":\"overlay\",\"size\":10,\"solidity\":0.2}},\"type\":\"histogram\"}],\"scattergl\":[{\"type\":\"scattergl\",\"marker\":{\"colorbar\":{\"outlinewidth\":0,\"ticks\":\"\"}}}],\"scatter3d\":[{\"type\":\"scatter3d\",\"line\":{\"colorbar\":{\"outlinewidth\":0,\"ticks\":\"\"}},\"marker\":{\"colorbar\":{\"outlinewidth\":0,\"ticks\":\"\"}}}],\"scattermapbox\":[{\"type\":\"scattermapbox\",\"marker\":{\"colorbar\":{\"outlinewidth\":0,\"ticks\":\"\"}}}],\"scatterternary\":[{\"type\":\"scatterternary\",\"marker\":{\"colorbar\":{\"outlinewidth\":0,\"ticks\":\"\"}}}],\"scattercarpet\":[{\"type\":\"scattercarpet\",\"marker\":{\"colorbar\":{\"outlinewidth\":0,\"ticks\":\"\"}}}],\"carpet\":[{\"aaxis\":{\"endlinecolor\":\"#2a3f5f\",\"gridcolor\":\"white\",\"linecolor\":\"white\",\"minorgridcolor\":\"white\",\"startlinecolor\":\"#2a3f5f\"},\"baxis\":{\"endlinecolor\":\"#2a3f5f\",\"gridcolor\":\"white\",\"linecolor\":\"white\",\"minorgridcolor\":\"white\",\"startlinecolor\":\"#2a3f5f\"},\"type\":\"carpet\"}],\"table\":[{\"cells\":{\"fill\":{\"color\":\"#EBF0F8\"},\"line\":{\"color\":\"white\"}},\"header\":{\"fill\":{\"color\":\"#C8D4E3\"},\"line\":{\"color\":\"white\"}},\"type\":\"table\"}],\"barpolar\":[{\"marker\":{\"line\":{\"color\":\"#E5ECF6\",\"width\":0.5},\"pattern\":{\"fillmode\":\"overlay\",\"size\":10,\"solidity\":0.2}},\"type\":\"barpolar\"}],\"pie\":[{\"automargin\":true,\"type\":\"pie\"}]},\"layout\":{\"autotypenumbers\":\"strict\",\"colorway\":[\"#636efa\",\"#EF553B\",\"#00cc96\",\"#ab63fa\",\"#FFA15A\",\"#19d3f3\",\"#FF6692\",\"#B6E880\",\"#FF97FF\",\"#FECB52\"],\"font\":{\"color\":\"#2a3f5f\"},\"hovermode\":\"closest\",\"hoverlabel\":{\"align\":\"left\"},\"paper_bgcolor\":\"white\",\"plot_bgcolor\":\"#E5ECF6\",\"polar\":{\"bgcolor\":\"#E5ECF6\",\"angularaxis\":{\"gridcolor\":\"white\",\"linecolor\":\"white\",\"ticks\":\"\"},\"radialaxis\":{\"gridcolor\":\"white\",\"linecolor\":\"white\",\"ticks\":\"\"}},\"ternary\":{\"bgcolor\":\"#E5ECF6\",\"aaxis\":{\"gridcolor\":\"white\",\"linecolor\":\"white\",\"ticks\":\"\"},\"baxis\":{\"gridcolor\":\"white\",\"linecolor\":\"white\",\"ticks\":\"\"},\"caxis\":{\"gridcolor\":\"white\",\"linecolor\":\"white\",\"ticks\":\"\"}},\"coloraxis\":{\"colorbar\":{\"outlinewidth\":0,\"ticks\":\"\"}},\"colorscale\":{\"sequential\":[[0.0,\"#0d0887\"],[0.1111111111111111,\"#46039f\"],[0.2222222222222222,\"#7201a8\"],[0.3333333333333333,\"#9c179e\"],[0.4444444444444444,\"#bd3786\"],[0.5555555555555556,\"#d8576b\"],[0.6666666666666666,\"#ed7953\"],[0.7777777777777778,\"#fb9f3a\"],[0.8888888888888888,\"#fdca26\"],[1.0,\"#f0f921\"]],\"sequentialminus\":[[0.0,\"#0d0887\"],[0.1111111111111111,\"#46039f\"],[0.2222222222222222,\"#7201a8\"],[0.3333333333333333,\"#9c179e\"],[0.4444444444444444,\"#bd3786\"],[0.5555555555555556,\"#d8576b\"],[0.6666666666666666,\"#ed7953\"],[0.7777777777777778,\"#fb9f3a\"],[0.8888888888888888,\"#fdca26\"],[1.0,\"#f0f921\"]],\"diverging\":[[0,\"#8e0152\"],[0.1,\"#c51b7d\"],[0.2,\"#de77ae\"],[0.3,\"#f1b6da\"],[0.4,\"#fde0ef\"],[0.5,\"#f7f7f7\"],[0.6,\"#e6f5d0\"],[0.7,\"#b8e186\"],[0.8,\"#7fbc41\"],[0.9,\"#4d9221\"],[1,\"#276419\"]]},\"xaxis\":{\"gridcolor\":\"white\",\"linecolor\":\"white\",\"ticks\":\"\",\"title\":{\"standoff\":15},\"zerolinecolor\":\"white\",\"automargin\":true,\"zerolinewidth\":2},\"yaxis\":{\"gridcolor\":\"white\",\"linecolor\":\"white\",\"ticks\":\"\",\"title\":{\"standoff\":15},\"zerolinecolor\":\"white\",\"automargin\":true,\"zerolinewidth\":2},\"scene\":{\"xaxis\":{\"backgroundcolor\":\"#E5ECF6\",\"gridcolor\":\"white\",\"linecolor\":\"white\",\"showbackground\":true,\"ticks\":\"\",\"zerolinecolor\":\"white\",\"gridwidth\":2},\"yaxis\":{\"backgroundcolor\":\"#E5ECF6\",\"gridcolor\":\"white\",\"linecolor\":\"white\",\"showbackground\":true,\"ticks\":\"\",\"zerolinecolor\":\"white\",\"gridwidth\":2},\"zaxis\":{\"backgroundcolor\":\"#E5ECF6\",\"gridcolor\":\"white\",\"linecolor\":\"white\",\"showbackground\":true,\"ticks\":\"\",\"zerolinecolor\":\"white\",\"gridwidth\":2}},\"shapedefaults\":{\"line\":{\"color\":\"#2a3f5f\"}},\"annotationdefaults\":{\"arrowcolor\":\"#2a3f5f\",\"arrowhead\":0,\"arrowwidth\":1},\"geo\":{\"bgcolor\":\"white\",\"landcolor\":\"#E5ECF6\",\"subunitcolor\":\"white\",\"showland\":true,\"showlakes\":true,\"lakecolor\":\"white\"},\"title\":{\"x\":0.05},\"mapbox\":{\"style\":\"light\"}}},\"xaxis\":{\"anchor\":\"y\",\"domain\":[0.0,1.0],\"title\":{\"text\":\"Label\"},\"tickmode\":\"linear\",\"ticktext\":[0,1,2,3,4,5,6,7,8,10,11,12,13,14,15,16,17,18,19,20,21,22,23,24]},\"yaxis\":{\"anchor\":\"x\",\"domain\":[0.0,1.0],\"title\":{\"text\":\"Number of Images\"},\"showgrid\":false},\"legend\":{\"tracegroupgap\":0},\"title\":{\"text\":\"Labels and thier images\",\"font\":{\"color\":\"#fff\",\"size\":20},\"x\":0.5},\"barmode\":\"relative\",\"font\":{\"color\":\"#fff\"},\"paper_bgcolor\":\"#334e5c\",\"plot_bgcolor\":\"#0C2D48\"},                        {\"responsive\": true}                    ).then(function(){\n",
              "                            \n",
              "var gd = document.getElementById('8f3db0df-aceb-484d-a2f7-4fedb9617e10');\n",
              "var x = new MutationObserver(function (mutations, observer) {{\n",
              "        var display = window.getComputedStyle(gd).display;\n",
              "        if (!display || display === 'none') {{\n",
              "            console.log([gd, 'removed!']);\n",
              "            Plotly.purge(gd);\n",
              "            observer.disconnect();\n",
              "        }}\n",
              "}});\n",
              "\n",
              "// Listen for the removal of the full notebook cells\n",
              "var notebookContainer = gd.closest('#notebook-container');\n",
              "if (notebookContainer) {{\n",
              "    x.observe(notebookContainer, {childList: true});\n",
              "}}\n",
              "\n",
              "// Listen for the clearing of the current output cell\n",
              "var outputEl = gd.closest('.output');\n",
              "if (outputEl) {{\n",
              "    x.observe(outputEl, {childList: true});\n",
              "}}\n",
              "\n",
              "                        })                };                            </script>        </div>\n",
              "</body>\n",
              "</html>"
            ]
          },
          "metadata": {}
        }
      ]
    },
    {
      "cell_type": "markdown",
      "source": [
        "#### searching for imbalance:\n",
        "- what is `Imbalance` : case in wich some labels bigger than the others, so the model will tend to overfit these labels than others and this will case bigge losses in the other labels\n",
        "- ` In our case i think the differnce will not make imbalance`, if you have other opinion please tell me."
      ],
      "metadata": {
        "id": "Y7w6Jbk3o_Ph"
      }
    },
    {
      "cell_type": "markdown",
      "source": [
        "<a id=\"section-two\"></a>\n",
        "# <div style=\"color:#fff;display:fill;border-radius:10px;background-color:#0C2D48;text-align:center;letter-spacing:0.1px;overflow:hidden;padding:20px;color:white;overflow:hidden;margin:0;font-size:100%\">Splitting the data</div>"
      ],
      "metadata": {
        "id": "Aeh8uzY9o_Ph"
      }
    },
    {
      "cell_type": "markdown",
      "source": [
        "####  before getting hands dirty here is the problem\n",
        "- we want to make a model to recognize the digit from pixels [ image ] so `classification problem`\n",
        "- the data splitting must be at this \n",
        "     - `train data : to train the model on` \n",
        "     - `validation data :  to see the performance of the model and tune the model on` \n",
        "     - `test data : a blind hold data that the model never seen before to genelalize the model performance to launch` "
      ],
      "metadata": {
        "id": "cQ59v5lfo_Pi"
      }
    },
    {
      "cell_type": "markdown",
      "source": [
        "section-one- we have the train\n",
        "- we will split the test data into `dev/test` sets"
      ],
      "metadata": {
        "id": "PJibPrY9o_Pi"
      }
    },
    {
      "cell_type": "code",
      "source": [
        "# take labels out of the date \n",
        "train_x = train.drop(\"label\",axis=1)\n",
        "train_y= train[\"label\"]\n",
        "test_x = test.drop(\"label\",axis=1)\n",
        "test_y= test[\"label\"]\n",
        "train_x.head()"
      ],
      "metadata": {
        "execution": {
          "iopub.status.busy": "2022-04-03T13:08:00.729903Z",
          "iopub.execute_input": "2022-04-03T13:08:00.730158Z",
          "iopub.status.idle": "2022-04-03T13:08:00.810882Z",
          "shell.execute_reply.started": "2022-04-03T13:08:00.730129Z",
          "shell.execute_reply": "2022-04-03T13:08:00.810065Z"
        },
        "trusted": true,
        "colab": {
          "base_uri": "https://localhost:8080/",
          "height": 299
        },
        "id": "htwmIdOJo_Pi",
        "outputId": "a0b22237-829d-49c4-a3d8-64136b17b216"
      },
      "execution_count": 10,
      "outputs": [
        {
          "output_type": "execute_result",
          "data": {
            "text/plain": [
              "   pixel1  pixel2  pixel3  pixel4  pixel5  pixel6  pixel7  pixel8  pixel9  \\\n",
              "0     107     118     127     134     139     143     146     150     153   \n",
              "1     155     157     156     156     156     157     156     158     158   \n",
              "2     187     188     188     187     187     186     187     188     187   \n",
              "3     211     211     212     212     211     210     211     210     210   \n",
              "4     164     167     170     172     176     179     180     184     185   \n",
              "\n",
              "   pixel10  ...  pixel775  pixel776  pixel777  pixel778  pixel779  pixel780  \\\n",
              "0      156  ...       207       207       207       207       206       206   \n",
              "1      157  ...        69       149       128        87        94       163   \n",
              "2      186  ...       202       201       200       199       198       199   \n",
              "3      211  ...       235       234       233       231       230       226   \n",
              "4      186  ...        92       105       105       108       133       163   \n",
              "\n",
              "   pixel781  pixel782  pixel783  pixel784  \n",
              "0       206       204       203       202  \n",
              "1       175       103       135       149  \n",
              "2       198       195       194       195  \n",
              "3       225       222       229       163  \n",
              "4       157       163       164       179  \n",
              "\n",
              "[5 rows x 784 columns]"
            ],
            "text/html": [
              "\n",
              "  <div id=\"df-6eda1da8-1088-467c-b2bd-11b3b6beba18\">\n",
              "    <div class=\"colab-df-container\">\n",
              "      <div>\n",
              "<style scoped>\n",
              "    .dataframe tbody tr th:only-of-type {\n",
              "        vertical-align: middle;\n",
              "    }\n",
              "\n",
              "    .dataframe tbody tr th {\n",
              "        vertical-align: top;\n",
              "    }\n",
              "\n",
              "    .dataframe thead th {\n",
              "        text-align: right;\n",
              "    }\n",
              "</style>\n",
              "<table border=\"1\" class=\"dataframe\">\n",
              "  <thead>\n",
              "    <tr style=\"text-align: right;\">\n",
              "      <th></th>\n",
              "      <th>pixel1</th>\n",
              "      <th>pixel2</th>\n",
              "      <th>pixel3</th>\n",
              "      <th>pixel4</th>\n",
              "      <th>pixel5</th>\n",
              "      <th>pixel6</th>\n",
              "      <th>pixel7</th>\n",
              "      <th>pixel8</th>\n",
              "      <th>pixel9</th>\n",
              "      <th>pixel10</th>\n",
              "      <th>...</th>\n",
              "      <th>pixel775</th>\n",
              "      <th>pixel776</th>\n",
              "      <th>pixel777</th>\n",
              "      <th>pixel778</th>\n",
              "      <th>pixel779</th>\n",
              "      <th>pixel780</th>\n",
              "      <th>pixel781</th>\n",
              "      <th>pixel782</th>\n",
              "      <th>pixel783</th>\n",
              "      <th>pixel784</th>\n",
              "    </tr>\n",
              "  </thead>\n",
              "  <tbody>\n",
              "    <tr>\n",
              "      <th>0</th>\n",
              "      <td>107</td>\n",
              "      <td>118</td>\n",
              "      <td>127</td>\n",
              "      <td>134</td>\n",
              "      <td>139</td>\n",
              "      <td>143</td>\n",
              "      <td>146</td>\n",
              "      <td>150</td>\n",
              "      <td>153</td>\n",
              "      <td>156</td>\n",
              "      <td>...</td>\n",
              "      <td>207</td>\n",
              "      <td>207</td>\n",
              "      <td>207</td>\n",
              "      <td>207</td>\n",
              "      <td>206</td>\n",
              "      <td>206</td>\n",
              "      <td>206</td>\n",
              "      <td>204</td>\n",
              "      <td>203</td>\n",
              "      <td>202</td>\n",
              "    </tr>\n",
              "    <tr>\n",
              "      <th>1</th>\n",
              "      <td>155</td>\n",
              "      <td>157</td>\n",
              "      <td>156</td>\n",
              "      <td>156</td>\n",
              "      <td>156</td>\n",
              "      <td>157</td>\n",
              "      <td>156</td>\n",
              "      <td>158</td>\n",
              "      <td>158</td>\n",
              "      <td>157</td>\n",
              "      <td>...</td>\n",
              "      <td>69</td>\n",
              "      <td>149</td>\n",
              "      <td>128</td>\n",
              "      <td>87</td>\n",
              "      <td>94</td>\n",
              "      <td>163</td>\n",
              "      <td>175</td>\n",
              "      <td>103</td>\n",
              "      <td>135</td>\n",
              "      <td>149</td>\n",
              "    </tr>\n",
              "    <tr>\n",
              "      <th>2</th>\n",
              "      <td>187</td>\n",
              "      <td>188</td>\n",
              "      <td>188</td>\n",
              "      <td>187</td>\n",
              "      <td>187</td>\n",
              "      <td>186</td>\n",
              "      <td>187</td>\n",
              "      <td>188</td>\n",
              "      <td>187</td>\n",
              "      <td>186</td>\n",
              "      <td>...</td>\n",
              "      <td>202</td>\n",
              "      <td>201</td>\n",
              "      <td>200</td>\n",
              "      <td>199</td>\n",
              "      <td>198</td>\n",
              "      <td>199</td>\n",
              "      <td>198</td>\n",
              "      <td>195</td>\n",
              "      <td>194</td>\n",
              "      <td>195</td>\n",
              "    </tr>\n",
              "    <tr>\n",
              "      <th>3</th>\n",
              "      <td>211</td>\n",
              "      <td>211</td>\n",
              "      <td>212</td>\n",
              "      <td>212</td>\n",
              "      <td>211</td>\n",
              "      <td>210</td>\n",
              "      <td>211</td>\n",
              "      <td>210</td>\n",
              "      <td>210</td>\n",
              "      <td>211</td>\n",
              "      <td>...</td>\n",
              "      <td>235</td>\n",
              "      <td>234</td>\n",
              "      <td>233</td>\n",
              "      <td>231</td>\n",
              "      <td>230</td>\n",
              "      <td>226</td>\n",
              "      <td>225</td>\n",
              "      <td>222</td>\n",
              "      <td>229</td>\n",
              "      <td>163</td>\n",
              "    </tr>\n",
              "    <tr>\n",
              "      <th>4</th>\n",
              "      <td>164</td>\n",
              "      <td>167</td>\n",
              "      <td>170</td>\n",
              "      <td>172</td>\n",
              "      <td>176</td>\n",
              "      <td>179</td>\n",
              "      <td>180</td>\n",
              "      <td>184</td>\n",
              "      <td>185</td>\n",
              "      <td>186</td>\n",
              "      <td>...</td>\n",
              "      <td>92</td>\n",
              "      <td>105</td>\n",
              "      <td>105</td>\n",
              "      <td>108</td>\n",
              "      <td>133</td>\n",
              "      <td>163</td>\n",
              "      <td>157</td>\n",
              "      <td>163</td>\n",
              "      <td>164</td>\n",
              "      <td>179</td>\n",
              "    </tr>\n",
              "  </tbody>\n",
              "</table>\n",
              "<p>5 rows × 784 columns</p>\n",
              "</div>\n",
              "      <button class=\"colab-df-convert\" onclick=\"convertToInteractive('df-6eda1da8-1088-467c-b2bd-11b3b6beba18')\"\n",
              "              title=\"Convert this dataframe to an interactive table.\"\n",
              "              style=\"display:none;\">\n",
              "        \n",
              "  <svg xmlns=\"http://www.w3.org/2000/svg\" height=\"24px\"viewBox=\"0 0 24 24\"\n",
              "       width=\"24px\">\n",
              "    <path d=\"M0 0h24v24H0V0z\" fill=\"none\"/>\n",
              "    <path d=\"M18.56 5.44l.94 2.06.94-2.06 2.06-.94-2.06-.94-.94-2.06-.94 2.06-2.06.94zm-11 1L8.5 8.5l.94-2.06 2.06-.94-2.06-.94L8.5 2.5l-.94 2.06-2.06.94zm10 10l.94 2.06.94-2.06 2.06-.94-2.06-.94-.94-2.06-.94 2.06-2.06.94z\"/><path d=\"M17.41 7.96l-1.37-1.37c-.4-.4-.92-.59-1.43-.59-.52 0-1.04.2-1.43.59L10.3 9.45l-7.72 7.72c-.78.78-.78 2.05 0 2.83L4 21.41c.39.39.9.59 1.41.59.51 0 1.02-.2 1.41-.59l7.78-7.78 2.81-2.81c.8-.78.8-2.07 0-2.86zM5.41 20L4 18.59l7.72-7.72 1.47 1.35L5.41 20z\"/>\n",
              "  </svg>\n",
              "      </button>\n",
              "      \n",
              "  <style>\n",
              "    .colab-df-container {\n",
              "      display:flex;\n",
              "      flex-wrap:wrap;\n",
              "      gap: 12px;\n",
              "    }\n",
              "\n",
              "    .colab-df-convert {\n",
              "      background-color: #E8F0FE;\n",
              "      border: none;\n",
              "      border-radius: 50%;\n",
              "      cursor: pointer;\n",
              "      display: none;\n",
              "      fill: #1967D2;\n",
              "      height: 32px;\n",
              "      padding: 0 0 0 0;\n",
              "      width: 32px;\n",
              "    }\n",
              "\n",
              "    .colab-df-convert:hover {\n",
              "      background-color: #E2EBFA;\n",
              "      box-shadow: 0px 1px 2px rgba(60, 64, 67, 0.3), 0px 1px 3px 1px rgba(60, 64, 67, 0.15);\n",
              "      fill: #174EA6;\n",
              "    }\n",
              "\n",
              "    [theme=dark] .colab-df-convert {\n",
              "      background-color: #3B4455;\n",
              "      fill: #D2E3FC;\n",
              "    }\n",
              "\n",
              "    [theme=dark] .colab-df-convert:hover {\n",
              "      background-color: #434B5C;\n",
              "      box-shadow: 0px 1px 3px 1px rgba(0, 0, 0, 0.15);\n",
              "      filter: drop-shadow(0px 1px 2px rgba(0, 0, 0, 0.3));\n",
              "      fill: #FFFFFF;\n",
              "    }\n",
              "  </style>\n",
              "\n",
              "      <script>\n",
              "        const buttonEl =\n",
              "          document.querySelector('#df-6eda1da8-1088-467c-b2bd-11b3b6beba18 button.colab-df-convert');\n",
              "        buttonEl.style.display =\n",
              "          google.colab.kernel.accessAllowed ? 'block' : 'none';\n",
              "\n",
              "        async function convertToInteractive(key) {\n",
              "          const element = document.querySelector('#df-6eda1da8-1088-467c-b2bd-11b3b6beba18');\n",
              "          const dataTable =\n",
              "            await google.colab.kernel.invokeFunction('convertToInteractive',\n",
              "                                                     [key], {});\n",
              "          if (!dataTable) return;\n",
              "\n",
              "          const docLinkHtml = 'Like what you see? Visit the ' +\n",
              "            '<a target=\"_blank\" href=https://colab.research.google.com/notebooks/data_table.ipynb>data table notebook</a>'\n",
              "            + ' to learn more about interactive tables.';\n",
              "          element.innerHTML = '';\n",
              "          dataTable['output_type'] = 'display_data';\n",
              "          await google.colab.output.renderOutput(dataTable, element);\n",
              "          const docLink = document.createElement('div');\n",
              "          docLink.innerHTML = docLinkHtml;\n",
              "          element.appendChild(docLink);\n",
              "        }\n",
              "      </script>\n",
              "    </div>\n",
              "  </div>\n",
              "  "
            ]
          },
          "metadata": {},
          "execution_count": 10
        }
      ]
    },
    {
      "cell_type": "code",
      "source": [
        "# splitting the test into dev/blind sets\n",
        "from sklearn.model_selection import train_test_split\n",
        "dev_x,blind_x ,dev_y, blind_y = train_test_split(test_x,test_y,test_size=.8,stratify=test_y)"
      ],
      "metadata": {
        "execution": {
          "iopub.status.busy": "2022-04-03T13:08:00.959547Z",
          "iopub.execute_input": "2022-04-03T13:08:00.959875Z",
          "iopub.status.idle": "2022-04-03T13:08:00.997172Z",
          "shell.execute_reply.started": "2022-04-03T13:08:00.959842Z",
          "shell.execute_reply": "2022-04-03T13:08:00.996301Z"
        },
        "trusted": true,
        "id": "hhv9BHxCo_Pi"
      },
      "execution_count": 11,
      "outputs": []
    },
    {
      "cell_type": "code",
      "source": [
        "# show the data shapes\n",
        "print(f\" X_train shape: {train_x.shape}\")\n",
        "print(f\" X_dev shape: {dev_x.shape}\")\n",
        "print(f\" X_test shape: {blind_x.shape}\")"
      ],
      "metadata": {
        "execution": {
          "iopub.status.busy": "2022-04-03T13:08:01.211762Z",
          "iopub.execute_input": "2022-04-03T13:08:01.212082Z",
          "iopub.status.idle": "2022-04-03T13:08:01.217157Z",
          "shell.execute_reply.started": "2022-04-03T13:08:01.212050Z",
          "shell.execute_reply": "2022-04-03T13:08:01.216420Z"
        },
        "trusted": true,
        "colab": {
          "base_uri": "https://localhost:8080/"
        },
        "id": "vWREjFlFo_Pi",
        "outputId": "95961cc8-4294-4c5c-cc50-620c197600e3"
      },
      "execution_count": 12,
      "outputs": [
        {
          "output_type": "stream",
          "name": "stdout",
          "text": [
            " X_train shape: (27455, 784)\n",
            " X_dev shape: (1434, 784)\n",
            " X_test shape: (5738, 784)\n"
          ]
        }
      ]
    },
    {
      "cell_type": "code",
      "source": [
        "# afinal step.. save the labels before one-hot-encoding \n",
        "test_classes= blind_y\n",
        "dev_clasees = dev_y"
      ],
      "metadata": {
        "execution": {
          "iopub.status.busy": "2022-04-03T13:08:01.391095Z",
          "iopub.execute_input": "2022-04-03T13:08:01.391385Z",
          "iopub.status.idle": "2022-04-03T13:08:01.396243Z",
          "shell.execute_reply.started": "2022-04-03T13:08:01.391356Z",
          "shell.execute_reply": "2022-04-03T13:08:01.395415Z"
        },
        "trusted": true,
        "id": "WDvYMetQo_Pj"
      },
      "execution_count": 13,
      "outputs": []
    },
    {
      "cell_type": "markdown",
      "source": [
        "## This is an intial splitting of the model and then train it in the full Train data"
      ],
      "metadata": {
        "id": "GZVV-Jclo_Pj"
      }
    },
    {
      "cell_type": "markdown",
      "source": [
        "### Reshaping the date:\n",
        "- to feed the date into the CNN it must be an image , in our case only a (28,28,1) shape which is a simple gray image\n",
        "- using numpy to reshape the date"
      ],
      "metadata": {
        "id": "3P-4LtPYo_Pj"
      }
    },
    {
      "cell_type": "code",
      "source": [
        "# frist conver the date frame into numpy array\n",
        "train_x = train_x.to_numpy()\n",
        "dev_x   = dev_x.to_numpy()\n",
        "blind_x    = blind_x.to_numpy()"
      ],
      "metadata": {
        "execution": {
          "iopub.status.busy": "2022-04-03T13:08:02.725956Z",
          "iopub.execute_input": "2022-04-03T13:08:02.726486Z",
          "iopub.status.idle": "2022-04-03T13:08:02.731188Z",
          "shell.execute_reply.started": "2022-04-03T13:08:02.726446Z",
          "shell.execute_reply": "2022-04-03T13:08:02.730254Z"
        },
        "trusted": true,
        "id": "f7iiToRko_Pj"
      },
      "execution_count": 14,
      "outputs": []
    },
    {
      "cell_type": "code",
      "source": [
        "# second : reshape the array\n",
        "train_x = train_x.reshape(-1,28,28,1)\n",
        "dev_x   = dev_x.reshape(-1,28,28,1)\n",
        "blind_x    = blind_x.reshape(-1,28,28,1)"
      ],
      "metadata": {
        "execution": {
          "iopub.status.busy": "2022-04-03T13:08:02.925612Z",
          "iopub.execute_input": "2022-04-03T13:08:02.925942Z",
          "iopub.status.idle": "2022-04-03T13:08:02.934080Z",
          "shell.execute_reply.started": "2022-04-03T13:08:02.925909Z",
          "shell.execute_reply": "2022-04-03T13:08:02.933352Z"
        },
        "trusted": true,
        "id": "jaTdOeNPo_Pj"
      },
      "execution_count": 15,
      "outputs": []
    },
    {
      "cell_type": "code",
      "source": [
        "# show the data shapes\n",
        "print(f\" X_train shape: {train_x.shape}\")\n",
        "print(f\" X_dev shape: {dev_x.shape}\")\n",
        "print(f\" X_test shape: {blind_x.shape}\")"
      ],
      "metadata": {
        "execution": {
          "iopub.status.busy": "2022-04-03T13:08:03.307502Z",
          "iopub.execute_input": "2022-04-03T13:08:03.308063Z",
          "iopub.status.idle": "2022-04-03T13:08:03.313229Z",
          "shell.execute_reply.started": "2022-04-03T13:08:03.308027Z",
          "shell.execute_reply": "2022-04-03T13:08:03.312391Z"
        },
        "trusted": true,
        "colab": {
          "base_uri": "https://localhost:8080/"
        },
        "id": "R8gayD8po_Pj",
        "outputId": "d64ec53d-cd81-428e-dd4e-1df936afbdab"
      },
      "execution_count": 16,
      "outputs": [
        {
          "output_type": "stream",
          "name": "stdout",
          "text": [
            " X_train shape: (27455, 28, 28, 1)\n",
            " X_dev shape: (1434, 28, 28, 1)\n",
            " X_test shape: (5738, 28, 28, 1)\n"
          ]
        }
      ]
    },
    {
      "cell_type": "markdown",
      "source": [
        "<a id=\"section-three\"></a>\n",
        "# <div style=\"color:#fff;display:fill;border-radius:10px;background-color:#0C2D48;text-align:center;letter-spacing:0.1px;overflow:hidden;padding:20px;color:white;overflow:hidden;margin:0;font-size:100%\">Visualize some images</div>"
      ],
      "metadata": {
        "id": "ICxe-CRMo_Pk"
      }
    },
    {
      "cell_type": "markdown",
      "source": [
        "- in this section i will show some random images from the data"
      ],
      "metadata": {
        "id": "liBZgxeIo_Pk"
      }
    },
    {
      "cell_type": "markdown",
      "source": [
        "### showing some traingin date "
      ],
      "metadata": {
        "id": "5I96ZhU2o_Pk"
      }
    },
    {
      "cell_type": "code",
      "source": [
        "# get some random index fro the train\n",
        "random_index = np.random.choice(range(len(train_x)),12)\n",
        "# show the 12 random images \n",
        "plt.figure(figsize=(15,15))\n",
        "plt.title(\"Some Random Training Images\")\n",
        "for i in range(12):\n",
        "    plt.subplot(3,4,i+1)\n",
        "    plt.imshow(train_x[random_index[i]],cmap=plt.get_cmap(\"gray\"))\n",
        "    plt.axis(\"off\")\n",
        "plt.tight_layout()\n",
        "plt.show() "
      ],
      "metadata": {
        "execution": {
          "iopub.status.busy": "2022-04-03T13:08:28.528287Z",
          "iopub.execute_input": "2022-04-03T13:08:28.529079Z",
          "iopub.status.idle": "2022-04-03T13:08:29.378952Z",
          "shell.execute_reply.started": "2022-04-03T13:08:28.529039Z",
          "shell.execute_reply": "2022-04-03T13:08:29.377214Z"
        },
        "trusted": true,
        "colab": {
          "base_uri": "https://localhost:8080/",
          "height": 1000
        },
        "id": "rNxwvqb5o_Pk",
        "outputId": "4c43d36a-2f47-4752-b001-0451a0efafc5"
      },
      "execution_count": 17,
      "outputs": [
        {
          "output_type": "stream",
          "name": "stderr",
          "text": [
            "<ipython-input-17-ac96154c31c0>:7: MatplotlibDeprecationWarning:\n",
            "\n",
            "Auto-removal of overlapping axes is deprecated since 3.6 and will be removed two minor releases later; explicitly call ax.remove() as needed.\n",
            "\n"
          ]
        },
        {
          "output_type": "display_data",
          "data": {
            "text/plain": [
              "<Figure size 1500x1500 with 12 Axes>"
            ],
            "image/png": "[encoded data removed]"
          },
          "metadata": {}
        }
      ]
    },
    {
      "cell_type": "markdown",
      "source": [
        "### showing some test images"
      ],
      "metadata": {
        "id": "NcnyTmcEo_Pk"
      }
    },
    {
      "cell_type": "code",
      "source": [
        "# get some random index fro the train\n",
        "random_index = np.random.choice(range(len(blind_x)),12)\n",
        "# show the 12 random images \n",
        "plt.figure(figsize=(15,15))\n",
        "plt.title(\"Some Random Training Images\")\n",
        "for i in range(12):\n",
        "    plt.subplot(3,4,i+1)\n",
        "    plt.imshow(blind_x[random_index[i]],cmap=plt.get_cmap(\"gray\"))\n",
        "    plt.axis(\"off\")\n",
        "plt.tight_layout()\n",
        "plt.show() "
      ],
      "metadata": {
        "execution": {
          "iopub.status.busy": "2022-04-03T13:08:29.380520Z",
          "iopub.execute_input": "2022-04-03T13:08:29.381298Z",
          "iopub.status.idle": "2022-04-03T13:08:30.053126Z",
          "shell.execute_reply.started": "2022-04-03T13:08:29.381257Z",
          "shell.execute_reply": "2022-04-03T13:08:30.052434Z"
        },
        "trusted": true,
        "colab": {
          "base_uri": "https://localhost:8080/",
          "height": 1000
        },
        "id": "h-5cO14Jo_Pl",
        "outputId": "0523c5b6-dac2-4f5c-c1ec-efa2ce2991e0"
      },
      "execution_count": 18,
      "outputs": [
        {
          "output_type": "stream",
          "name": "stderr",
          "text": [
            "<ipython-input-18-fe2e397036c2>:7: MatplotlibDeprecationWarning:\n",
            "\n",
            "Auto-removal of overlapping axes is deprecated since 3.6 and will be removed two minor releases later; explicitly call ax.remove() as needed.\n",
            "\n"
          ]
        },
        {
          "output_type": "display_data",
          "data": {
            "text/plain": [
              "<Figure size 1500x1500 with 12 Axes>"
            ],
            "image/png": "[encoded data removed]"
          },
          "metadata": {}
        }
      ]
    },
    {
      "cell_type": "markdown",
      "source": [
        "<p>we clearly see that the train and test date have the same distributions so there will be no </p> `data mismatch problem`"
      ],
      "metadata": {
        "id": "ta7P1JUno_Pl"
      }
    },
    {
      "cell_type": "markdown",
      "source": [
        "<a id=\"section-four\"></a>\n",
        "# <div style=\"color:#fff;display:fill;border-radius:10px;background-color:#0C2D48;text-align:center;letter-spacing:0.1px;overflow:hidden;padding:20px;color:white;overflow:hidden;margin:0;font-size:100%\">ResNet Recap</div>"
      ],
      "metadata": {
        "id": "syOivy9Oo_Pl"
      }
    },
    {
      "cell_type": "markdown",
      "source": [
        "## Why to use Very Deep Neural Networks\n",
        "* we all know that the advantage of using a NN over classis linear models is the complexty the ANN add to the system.providing the final layers with more complex features than only having a linear relationship between the input and output \n",
        "* The main benefit of a very deep network is that it can represent very complex functions. It can also learn features at many different levels of abstraction, from edges (at the shallower layers, closer to the input) to very complex features (at the deeper layers, closer to the output)."
      ],
      "metadata": {
        "id": "kB8iHF0ao_Pl"
      }
    },
    {
      "cell_type": "markdown",
      "source": [
        "## The Problem of Very Deep Neural Networks\n",
        "\n",
        "* However, using a deeper network doesn't always help. A huge barrier to training them is vanishing gradients: very deep networks often have a gradient signal that goes to zero quickly, thus making gradient descent prohibitively slow.\n",
        "\n",
        "* More specifically, during gradient descent, as you backpropagate from the final layer back to the first layer, you are multiplying by the weight matrix on each step, and thus the gradient can decrease exponentially quickly to zero (or, in rare cases, grow exponentially quickly and \"explode,\" from gaining very large values). \n",
        "\n",
        "* During training, you might therefore see the magnitude (or norm) of the gradient for the shallower layers decrease to zero very rapidly as training proceeds, as shown below: "
      ],
      "metadata": {
        "id": "Buk_mjT9o_Pl"
      }
    },
    {
      "cell_type": "markdown",
      "source": [
        "<img src=\"https://drive.google.com/uc?export=view&id=1gUrKMNAkQQ7mqWtORfmaHjFm5XpcAOGu\" style=\"width:450px;height:220px;margin:auto\"></img>\n",
        "<caption><center> <u> <font color='purple'> </u><font color='purple'><b>Vanishing gradient</b> <br> The speed of learning decreases very rapidly for the shallower layers as the network trains </center></caption>"
      ],
      "metadata": {
        "execution": {
          "iopub.status.busy": "2022-04-02T13:16:43.064598Z",
          "iopub.execute_input": "2022-04-02T13:16:43.06541Z",
          "iopub.status.idle": "2022-04-02T13:16:43.070677Z",
          "shell.execute_reply.started": "2022-04-02T13:16:43.06537Z",
          "shell.execute_reply": "2022-04-02T13:16:43.069689Z"
        },
        "id": "XoUImhaCo_Pl"
      }
    },
    {
      "cell_type": "markdown",
      "source": [
        "## What is the solution to go deeper?\n",
        "* here comes the advantage of ResNet\n",
        "* let's first know the basic Residual block\n",
        "In ResNets, a \"shortcut\" or a \"skip connection\" allows the model to skip layers:  \n",
        "\n",
        "<img src=\"https://drive.google.com/uc?export=view&id=1zDA4bg--tVDWTWqRRsZnO-dAS1ZSMi34\" style=\"width:650px;height:200px;margin:auto\"></img>\n",
        "<caption><center> <u> <font color='purple'> </u><font color='purple'> A ResNet block showing a skip-connection <br> </center></caption>\n",
        "\n",
        "The image on the left shows the \"main path\" through the network. The image on the right adds a shortcut to the main path. By stacking these ResNet blocks on top of each other, you can form a very deep network.\n",
        "* why it works?\n",
        "    * The connections makes the output of the seconde layer as this \n",
        "        * A[l+2] = Activation( Z[l+1]*W[l+2] +b[l+2] + <span style=\"color:red\"> A[l] </span>) -> l is the layer number\n",
        "    * let's consider it as this , even if the two leyers learn nothing ( W[l+2],W[l] = 0) the output is still the same as the input \n",
        "         *  A[l+2] = Activation( <span style=\"color:red\"> A[l] </span>) \n",
        "    \n",
        "   * ResNet blocks with the shortcut also makes it very easy for one of the blocks to learn an identity function. This means that you can stack on additional ResNet blocks with little risk of harming training set performance.  \n",
        "    \n",
        "* On that note, there is also some evidence that the ease of learning an identity function accounts for ResNets' remarkable performance even more than skip connections help with `vanishing gradients`.\n"
      ],
      "metadata": {
        "id": "XqkKXdvBo_Pl"
      }
    },
    {
      "cell_type": "markdown",
      "source": [
        "<a name='3-1'></a>\n",
        "## Block types according to size of input and output of the block\n",
        "### 1 - The Identity Block\n",
        "\n",
        "The identity block is the standard block used in ResNets, and corresponds to the case where the input activation (say $a^{[l]}$) has the same dimension as the output activation (say $a^{[l+2]}$). To flesh out the different steps of what happens in a ResNet's identity block, here is an alternative diagram showing the individual steps:\n",
        "\n",
        "<img src=\"https://drive.google.com/uc?export=view&id=1ITFg5s1_UVPSZ28aQbdwdA0HPF5POrO6\" style=\"width:650px;height:150px;margin:auto\" ></img>\n",
        "<caption><center> <u> <font color='purple'> </u><font color='purple'><b>Identity block.</b> Skip connection \"skips over\" 2 layers. </center></caption>\n",
        "\n",
        "The upper path is the \"shortcut path.\" The lower path is the \"main path.\" In this diagram, notice the CONV2D and ReLU steps in each layer. To speed up training, a BatchNorm step has been added. \n",
        "\n",
        "<img src=\"https://drive.google.com/uc?export=view&id=1MOHOnjGxKN6Dvhb5X1KWxRbSCNpiZqBY\" style=\"width:650px;height:150px;\">\n",
        "    <caption><center> <u> <font color='purple'></u><font color='purple'>  : <b>Identity block.</b> Skip connection \"skips over\" 3 layers.</center></caption>"
      ],
      "metadata": {
        "id": "0CS7J5Rgo_Pm"
      }
    },
    {
      "cell_type": "markdown",
      "source": [
        "\n",
        "### 2 - The Convolutional Block\n",
        "\n",
        "The ResNet \"convolutional block\" is the second block type. You can use this type of block when the input and output dimensions don't match up. The difference with the identity block is that there is a CONV2D layer in the shortcut path: \n",
        "\n",
        "<img src=\"https://drive.google.com/uc?export=view&id=17Z5iCvHj4NqF3UKgGcR-GlIPzgdRHrnv\" style=\"width:650px;height:150px;\"></img>\n",
        "<caption><center> <u> <font color='purple'> </u><font color='purple'>  <b>Convolutional block</b> </center></caption>\n",
        "\n",
        "* The CONV2D layer in the shortcut path is used to resize the input $x$ to a different dimension, so that the dimensions match up in the final addition needed to add the shortcut value back to the main path to make the addtion operation valid \n",
        "* For example, to reduce the activation dimensions's height and width by a factor of 2, you can use a 1x1 convolution with a stride of 2. \n",
        "* The CONV2D layer on the shortcut path does not use any non-linear activation function. Its main role is to just apply a (learned) linear function that reduces the dimension of the input, so that the dimensions match up for the later addition step. \n",
        "\n",
        "\n",
        "The details of the convolutional block are as follows. \n",
        "\n",
        "First component of main path:\n",
        "- The first CONV2D has $F_1$ filters of shape (1,1) and a stride of (s,s). Its padding is \"valid\".\n",
        "- The first BatchNorm is normalizing the 'channels' axis.\n",
        "- Then apply the ReLU activation function. This has no hyperparameters. \n",
        "\n",
        "Second component of main path:\n",
        "- The second CONV2D has $F_2$ filters of shape (f,f) and a stride of (1,1). Its padding is \"same\".\n",
        "- The second BatchNorm is normalizing the 'channels' axis.\n",
        "- Then apply the ReLU activation function. This has no hyperparameters. \n",
        "\n",
        "Third component of main path:\n",
        "- The third CONV2D has $F_3$ filters of shape (1,1) and a stride of (1,1). Its padding is \"valid\". \n",
        "- The third BatchNorm is normalizing the 'channels' axis. Note that there is no ReLU activation function in this component. \n",
        "\n",
        "Shortcut path:\n",
        "- The CONV2D has $F_3$ filters of shape (1,1) and a stride of (s,s). Its padding is \"valid\".  \n",
        "- The BatchNorm is normalizing the 'channels' axis. \n",
        "\n",
        "Final step: \n",
        "- The shortcut and the main path values are added together.\n",
        "- Then apply the ReLU activation function. This has no hyperparameters. \n"
      ],
      "metadata": {
        "id": "4l6NAnJao_Pm"
      }
    },
    {
      "cell_type": "markdown",
      "source": [
        "<a id=\"section-fife\"></a>\n",
        "# <div style=\"color:#fff;display:fill;border-radius:10px;background-color:#0C2D48;text-align:center;letter-spacing:0.1px;overflow:hidden;padding:20px;color:white;overflow:hidden;margin:0;font-size:100%\">Building basic blocks and The ResNet</div>"
      ],
      "metadata": {
        "id": "WKG4Owmqo_Pn"
      }
    },
    {
      "cell_type": "markdown",
      "source": [
        "#### The model is insipred form the ResNet-50 Model\n",
        "<img src=\"https://drive.google.com/uc?export=view&id=1R8aVV1wqI1jv9bxPJSthdVIzCsYdiENQ\" style=\"width:850px;height:150px;margin:auto\"></img>\n",
        "<caption><center> <u> <font color='purple'> </u><font color='purple'><b>ResNet-50 model</b> </center></caption>\n"
      ],
      "metadata": {
        "id": "veye2y54o_Pn"
      }
    },
    {
      "cell_type": "code",
      "source": [
        "import tensorflow as tf "
      ],
      "metadata": {
        "execution": {
          "iopub.status.busy": "2022-04-03T13:09:44.395784Z",
          "iopub.execute_input": "2022-04-03T13:09:44.396450Z",
          "iopub.status.idle": "2022-04-03T13:09:44.399948Z",
          "shell.execute_reply.started": "2022-04-03T13:09:44.396413Z",
          "shell.execute_reply": "2022-04-03T13:09:44.399108Z"
        },
        "trusted": true,
        "id": "MoNq8n37o_Pn"
      },
      "execution_count": 19,
      "outputs": []
    },
    {
      "cell_type": "code",
      "source": [
        "# the identity block\n",
        "def identity_block(X, f, filters, training=True):\n",
        "    # filter of the three convs \n",
        "    f1,f2,f3 = filters\n",
        "    X_shortcut = X \n",
        "    \n",
        "    # first component \n",
        "    X = tf.keras.layers.Conv2D(filters = f1, kernel_size = 1, strides = (1,1), padding = 'valid')(X)\n",
        "    X = tf.keras.layers.BatchNormalization(axis = 3)(X, training = training) # Default axis\n",
        "    X = tf.keras.layers.Activation('relu')(X)\n",
        "    # second component \n",
        "    X = tf.keras.layers.Conv2D(filters = f2, kernel_size = f, strides = (1,1), padding = 'same')(X)\n",
        "    X = tf.keras.layers.BatchNormalization(axis = 3)(X, training = training) # Default axis\n",
        "    X = tf.keras.layers.Activation('relu')(X)\n",
        "    # third component \n",
        "    X = tf.keras.layers.Conv2D(filters = f3, kernel_size = 1, strides = (1,1), padding = 'valid')(X)\n",
        "    X = tf.keras.layers.BatchNormalization(axis = 3)(X, training = training) # Default axis\n",
        "   # adding the two paths \n",
        "    X = tf.keras.layers.Add()([X_shortcut,X])\n",
        "    X = tf.keras.layers.Activation('relu')(X)\n",
        "    # return the las tensor\n",
        "    return X"
      ],
      "metadata": {
        "execution": {
          "iopub.status.busy": "2022-04-03T13:09:44.610990Z",
          "iopub.execute_input": "2022-04-03T13:09:44.611250Z",
          "iopub.status.idle": "2022-04-03T13:09:44.620031Z",
          "shell.execute_reply.started": "2022-04-03T13:09:44.611218Z",
          "shell.execute_reply": "2022-04-03T13:09:44.619228Z"
        },
        "trusted": true,
        "id": "SSLI1TJYo_Po"
      },
      "execution_count": 20,
      "outputs": []
    },
    {
      "cell_type": "code",
      "source": [
        "# the identity block\n",
        "def convolutional_block(X, f, filters, s=2,training=True):\n",
        "    # filter of the three convs \n",
        "    f1,f2,f3 = filters\n",
        "    X_shortcut = X \n",
        "    \n",
        "    # first component \n",
        "    X = tf.keras.layers.Conv2D(filters = f1, kernel_size = 1, strides = (1,1), padding = 'valid')(X)\n",
        "    X = tf.keras.layers.BatchNormalization(axis = 3)(X, training = training) # Default axis\n",
        "    X = tf.keras.layers.Activation('relu')(X)\n",
        "    # second component \n",
        "    X = tf.keras.layers.Conv2D(filters = f2, kernel_size = f, strides = (s,s), padding = 'same')(X)\n",
        "    X = tf.keras.layers.BatchNormalization(axis = 3)(X, training = training) # Default axis\n",
        "    X = tf.keras.layers.Activation('relu')(X)\n",
        "    # third component \n",
        "    X = tf.keras.layers.Conv2D(filters = f3, kernel_size = 1, strides = (1,1), padding = 'valid')(X)\n",
        "    X = tf.keras.layers.BatchNormalization(axis = 3)(X, training = training) # Default axis\n",
        "   # converting the input volume to the match the last output for adding\n",
        "    X_shortcut =tf.keras.layers.Conv2D(filters = f3, kernel_size = 1, strides = (s,s), padding = 'valid')(X_shortcut)\n",
        "    X_shortcut = tf.keras.layers.BatchNormalization(axis = 3)(X_shortcut, training = training)\n",
        "    X = tf.keras.layers.Add()([X_shortcut,X])\n",
        "    X = tf.keras.layers.Activation('relu')(X)\n",
        "    # last , add the two tensors\n",
        "    X = tf.keras.layers.Add()([X, X_shortcut])\n",
        "    X = tf.keras.layers.Activation('relu')(X)\n",
        "    \n",
        "    # return the las tensor\n",
        "    return X"
      ],
      "metadata": {
        "execution": {
          "iopub.status.busy": "2022-04-03T13:09:44.802803Z",
          "iopub.execute_input": "2022-04-03T13:09:44.803093Z",
          "iopub.status.idle": "2022-04-03T13:09:44.814114Z",
          "shell.execute_reply.started": "2022-04-03T13:09:44.803065Z",
          "shell.execute_reply": "2022-04-03T13:09:44.813347Z"
        },
        "trusted": true,
        "id": "H7jwbymmo_Po"
      },
      "execution_count": 21,
      "outputs": []
    },
    {
      "cell_type": "code",
      "source": [
        "# UNQ_C3\n",
        "# GRADED FUNCTION: ResNet50\n",
        "\n",
        "def ResNet50(input_shape = (28, 28, 1), classes =len(labels) ):\n",
        "    \n",
        "    # Define the input as a tensor with shape input_shape\n",
        "    X_input = tf.keras.Input(input_shape)\n",
        "    \n",
        "    # Zero-Padding\n",
        "    X = tf.keras.layers.ZeroPadding2D((3, 3))(X_input)\n",
        "    \n",
        "    # Stage 1\n",
        "    X = tf.keras.layers.Conv2D(64, (5, 5), strides = (1, 1))(X)\n",
        "    X = tf.keras.layers.BatchNormalization(axis = 3)(X)\n",
        "    X = tf.keras.layers.Activation('relu')(X)\n",
        "    X = tf.keras.layers.MaxPooling2D((3, 3), strides=(2, 2))(X)\n",
        "\n",
        "    # Stage 2\n",
        "    X = convolutional_block(X, f = 3, filters = [64, 64, 256], s = 1)\n",
        "    # note: in building the identity block we make sure the input volume has the same dimesions as the output volume\n",
        "    # means , the last filter of the block must be the same as the last filter of the previous block\n",
        "    X = identity_block(X, 3, [64, 64, 256])\n",
        "    X = identity_block(X, 3, [64, 64, 256])\n",
        "\n",
        "    \n",
        "    ## Stage 3 \n",
        "    X = convolutional_block(X, f = 3, filters = [128,128,512], s = 2)\n",
        "    X = identity_block(X, 3, [128,128,512]) \n",
        "    X = identity_block(X, 3, [128,128,512])\n",
        "    X = identity_block(X, 3, [128,128,512]) \n",
        "    \n",
        "    ## Stage 4\n",
        "    X = convolutional_block(X, f = 3, filters =  [256, 256, 1024], s = 2) \n",
        "    X = identity_block(X, 3,  [256, 256, 1024])  \n",
        "    X = identity_block(X, 3,  [256, 256, 1024])  \n",
        "    X = identity_block(X, 3,  [256, 256, 1024])  \n",
        "    X = identity_block(X, 3,  [256, 256, 1024])  \n",
        "    X = identity_block(X, 3,  [256, 256, 1024])  \n",
        "\n",
        "    ## Stage 5 \n",
        "#     X = convolutional_block(X, f = 3, filters =   [512, 512, 2048], s = 1)  \n",
        "#     X = identity_block(X, 3,   [512, 512, 2048]) \n",
        "#     X = identity_block(X, 3,   [512, 512, 2048])  \n",
        "    \n",
        "    ## addd average pool layer\n",
        "    X = tf.keras.layers.AveragePooling2D((2,2))(X)\n",
        "\n",
        "    # output layer\n",
        "    X = tf.keras.layers.Flatten()(X)\n",
        "    X = tf.keras.layers.Dense(classes, activation='softmax')(X)\n",
        "    \n",
        "    \n",
        "    # Create model\n",
        "    model = tf.keras.Model(inputs = X_input, outputs = X)\n",
        "\n",
        "    return model"
      ],
      "metadata": {
        "execution": {
          "iopub.status.busy": "2022-04-03T13:09:44.974459Z",
          "iopub.execute_input": "2022-04-03T13:09:44.974887Z",
          "iopub.status.idle": "2022-04-03T13:09:44.988306Z",
          "shell.execute_reply.started": "2022-04-03T13:09:44.974854Z",
          "shell.execute_reply": "2022-04-03T13:09:44.987679Z"
        },
        "trusted": true,
        "id": "1F5ghL5io_Po"
      },
      "execution_count": 22,
      "outputs": []
    },
    {
      "cell_type": "code",
      "source": [
        "model =ResNet50()\n",
        "print(model.summary())"
      ],
      "metadata": {
        "execution": {
          "iopub.status.busy": "2022-04-03T13:09:45.586885Z",
          "iopub.execute_input": "2022-04-03T13:09:45.587504Z",
          "iopub.status.idle": "2022-04-03T13:09:46.378922Z",
          "shell.execute_reply.started": "2022-04-03T13:09:45.587467Z",
          "shell.execute_reply": "2022-04-03T13:09:46.378203Z"
        },
        "trusted": true,
        "colab": {
          "base_uri": "https://localhost:8080/"
        },
        "id": "QaxVMLfVo_Pp",
        "outputId": "1cc21d59-8318-4c07-c104-ed63af29091a"
      },
      "execution_count": 23,
      "outputs": [
        {
          "output_type": "stream",
          "name": "stdout",
          "text": [
            "Model: \"model\"\n",
            "__________________________________________________________________________________________________\n",
            " Layer (type)                   Output Shape         Param #     Connected to                     \n",
            "==================================================================================================\n",
            " input_1 (InputLayer)           [(None, 28, 28, 1)]  0           []                               \n",
            "                                                                                                  \n",
            " zero_padding2d (ZeroPadding2D)  (None, 34, 34, 1)   0           ['input_1[0][0]']                \n",
            "                                                                                                  \n",
            " conv2d (Conv2D)                (None, 30, 30, 64)   1664        ['zero_padding2d[0][0]']         \n",
            "                                                                                                  \n",
            " batch_normalization (BatchNorm  (None, 30, 30, 64)  256         ['conv2d[0][0]']                 \n",
            " alization)                                                                                       \n",
            "                                                                                                  \n",
            " activation (Activation)        (None, 30, 30, 64)   0           ['batch_normalization[0][0]']    \n",
            "                                                                                                  \n",
            " max_pooling2d (MaxPooling2D)   (None, 14, 14, 64)   0           ['activation[0][0]']             \n",
            "                                                                                                  \n",
            " conv2d_1 (Conv2D)              (None, 14, 14, 64)   4160        ['max_pooling2d[0][0]']          \n",
            "                                                                                                  \n",
            " batch_normalization_1 (BatchNo  (None, 14, 14, 64)  256         ['conv2d_1[0][0]']               \n",
            " rmalization)                                                                                     \n",
            "                                                                                                  \n",
            " activation_1 (Activation)      (None, 14, 14, 64)   0           ['batch_normalization_1[0][0]']  \n",
            "                                                                                                  \n",
            " conv2d_2 (Conv2D)              (None, 14, 14, 64)   36928       ['activation_1[0][0]']           \n",
            "                                                                                                  \n",
            " batch_normalization_2 (BatchNo  (None, 14, 14, 64)  256         ['conv2d_2[0][0]']               \n",
            " rmalization)                                                                                     \n",
            "                                                                                                  \n",
            " activation_2 (Activation)      (None, 14, 14, 64)   0           ['batch_normalization_2[0][0]']  \n",
            "                                                                                                  \n",
            " conv2d_4 (Conv2D)              (None, 14, 14, 256)  16640       ['max_pooling2d[0][0]']          \n",
            "                                                                                                  \n",
            " conv2d_3 (Conv2D)              (None, 14, 14, 256)  16640       ['activation_2[0][0]']           \n",
            "                                                                                                  \n",
            " batch_normalization_4 (BatchNo  (None, 14, 14, 256)  1024       ['conv2d_4[0][0]']               \n",
            " rmalization)                                                                                     \n",
            "                                                                                                  \n",
            " batch_normalization_3 (BatchNo  (None, 14, 14, 256)  1024       ['conv2d_3[0][0]']               \n",
            " rmalization)                                                                                     \n",
            "                                                                                                  \n",
            " add (Add)                      (None, 14, 14, 256)  0           ['batch_normalization_4[0][0]',  \n",
            "                                                                  'batch_normalization_3[0][0]']  \n",
            "                                                                                                  \n",
            " activation_3 (Activation)      (None, 14, 14, 256)  0           ['add[0][0]']                    \n",
            "                                                                                                  \n",
            " add_1 (Add)                    (None, 14, 14, 256)  0           ['activation_3[0][0]',           \n",
            "                                                                  'batch_normalization_4[0][0]']  \n",
            "                                                                                                  \n",
            " activation_4 (Activation)      (None, 14, 14, 256)  0           ['add_1[0][0]']                  \n",
            "                                                                                                  \n",
            " conv2d_5 (Conv2D)              (None, 14, 14, 64)   16448       ['activation_4[0][0]']           \n",
            "                                                                                                  \n",
            " batch_normalization_5 (BatchNo  (None, 14, 14, 64)  256         ['conv2d_5[0][0]']               \n",
            " rmalization)                                                                                     \n",
            "                                                                                                  \n",
            " activation_5 (Activation)      (None, 14, 14, 64)   0           ['batch_normalization_5[0][0]']  \n",
            "                                                                                                  \n",
            " conv2d_6 (Conv2D)              (None, 14, 14, 64)   36928       ['activation_5[0][0]']           \n",
            "                                                                                                  \n",
            " batch_normalization_6 (BatchNo  (None, 14, 14, 64)  256         ['conv2d_6[0][0]']               \n",
            " rmalization)                                                                                     \n",
            "                                                                                                  \n",
            " activation_6 (Activation)      (None, 14, 14, 64)   0           ['batch_normalization_6[0][0]']  \n",
            "                                                                                                  \n",
            " conv2d_7 (Conv2D)              (None, 14, 14, 256)  16640       ['activation_6[0][0]']           \n",
            "                                                                                                  \n",
            " batch_normalization_7 (BatchNo  (None, 14, 14, 256)  1024       ['conv2d_7[0][0]']               \n",
            " rmalization)                                                                                     \n",
            "                                                                                                  \n",
            " add_2 (Add)                    (None, 14, 14, 256)  0           ['activation_4[0][0]',           \n",
            "                                                                  'batch_normalization_7[0][0]']  \n",
            "                                                                                                  \n",
            " activation_7 (Activation)      (None, 14, 14, 256)  0           ['add_2[0][0]']                  \n",
            "                                                                                                  \n",
            " conv2d_8 (Conv2D)              (None, 14, 14, 64)   16448       ['activation_7[0][0]']           \n",
            "                                                                                                  \n",
            " batch_normalization_8 (BatchNo  (None, 14, 14, 64)  256         ['conv2d_8[0][0]']               \n",
            " rmalization)                                                                                     \n",
            "                                                                                                  \n",
            " activation_8 (Activation)      (None, 14, 14, 64)   0           ['batch_normalization_8[0][0]']  \n",
            "                                                                                                  \n",
            " conv2d_9 (Conv2D)              (None, 14, 14, 64)   36928       ['activation_8[0][0]']           \n",
            "                                                                                                  \n",
            " batch_normalization_9 (BatchNo  (None, 14, 14, 64)  256         ['conv2d_9[0][0]']               \n",
            " rmalization)                                                                                     \n",
            "                                                                                                  \n",
            " activation_9 (Activation)      (None, 14, 14, 64)   0           ['batch_normalization_9[0][0]']  \n",
            "                                                                                                  \n",
            " conv2d_10 (Conv2D)             (None, 14, 14, 256)  16640       ['activation_9[0][0]']           \n",
            "                                                                                                  \n",
            " batch_normalization_10 (BatchN  (None, 14, 14, 256)  1024       ['conv2d_10[0][0]']              \n",
            " ormalization)                                                                                    \n",
            "                                                                                                  \n",
            " add_3 (Add)                    (None, 14, 14, 256)  0           ['activation_7[0][0]',           \n",
            "                                                                  'batch_normalization_10[0][0]'] \n",
            "                                                                                                  \n",
            " activation_10 (Activation)     (None, 14, 14, 256)  0           ['add_3[0][0]']                  \n",
            "                                                                                                  \n",
            " conv2d_11 (Conv2D)             (None, 14, 14, 128)  32896       ['activation_10[0][0]']          \n",
            "                                                                                                  \n",
            " batch_normalization_11 (BatchN  (None, 14, 14, 128)  512        ['conv2d_11[0][0]']              \n",
            " ormalization)                                                                                    \n",
            "                                                                                                  \n",
            " activation_11 (Activation)     (None, 14, 14, 128)  0           ['batch_normalization_11[0][0]'] \n",
            "                                                                                                  \n",
            " conv2d_12 (Conv2D)             (None, 7, 7, 128)    147584      ['activation_11[0][0]']          \n",
            "                                                                                                  \n",
            " batch_normalization_12 (BatchN  (None, 7, 7, 128)   512         ['conv2d_12[0][0]']              \n",
            " ormalization)                                                                                    \n",
            "                                                                                                  \n",
            " activation_12 (Activation)     (None, 7, 7, 128)    0           ['batch_normalization_12[0][0]'] \n",
            "                                                                                                  \n",
            " conv2d_14 (Conv2D)             (None, 7, 7, 512)    131584      ['activation_10[0][0]']          \n",
            "                                                                                                  \n",
            " conv2d_13 (Conv2D)             (None, 7, 7, 512)    66048       ['activation_12[0][0]']          \n",
            "                                                                                                  \n",
            " batch_normalization_14 (BatchN  (None, 7, 7, 512)   2048        ['conv2d_14[0][0]']              \n",
            " ormalization)                                                                                    \n",
            "                                                                                                  \n",
            " batch_normalization_13 (BatchN  (None, 7, 7, 512)   2048        ['conv2d_13[0][0]']              \n",
            " ormalization)                                                                                    \n",
            "                                                                                                  \n",
            " add_4 (Add)                    (None, 7, 7, 512)    0           ['batch_normalization_14[0][0]', \n",
            "                                                                  'batch_normalization_13[0][0]'] \n",
            "                                                                                                  \n",
            " activation_13 (Activation)     (None, 7, 7, 512)    0           ['add_4[0][0]']                  \n",
            "                                                                                                  \n",
            " add_5 (Add)                    (None, 7, 7, 512)    0           ['activation_13[0][0]',          \n",
            "                                                                  'batch_normalization_14[0][0]'] \n",
            "                                                                                                  \n",
            " activation_14 (Activation)     (None, 7, 7, 512)    0           ['add_5[0][0]']                  \n",
            "                                                                                                  \n",
            " conv2d_15 (Conv2D)             (None, 7, 7, 128)    65664       ['activation_14[0][0]']          \n",
            "                                                                                                  \n",
            " batch_normalization_15 (BatchN  (None, 7, 7, 128)   512         ['conv2d_15[0][0]']              \n",
            " ormalization)                                                                                    \n",
            "                                                                                                  \n",
            " activation_15 (Activation)     (None, 7, 7, 128)    0           ['batch_normalization_15[0][0]'] \n",
            "                                                                                                  \n",
            " conv2d_16 (Conv2D)             (None, 7, 7, 128)    147584      ['activation_15[0][0]']          \n",
            "                                                                                                  \n",
            " batch_normalization_16 (BatchN  (None, 7, 7, 128)   512         ['conv2d_16[0][0]']              \n",
            " ormalization)                                                                                    \n",
            "                                                                                                  \n",
            " activation_16 (Activation)     (None, 7, 7, 128)    0           ['batch_normalization_16[0][0]'] \n",
            "                                                                                                  \n",
            " conv2d_17 (Conv2D)             (None, 7, 7, 512)    66048       ['activation_16[0][0]']          \n",
            "                                                                                                  \n",
            " batch_normalization_17 (BatchN  (None, 7, 7, 512)   2048        ['conv2d_17[0][0]']              \n",
            " ormalization)                                                                                    \n",
            "                                                                                                  \n",
            " add_6 (Add)                    (None, 7, 7, 512)    0           ['activation_14[0][0]',          \n",
            "                                                                  'batch_normalization_17[0][0]'] \n",
            "                                                                                                  \n",
            " activation_17 (Activation)     (None, 7, 7, 512)    0           ['add_6[0][0]']                  \n",
            "                                                                                                  \n",
            " conv2d_18 (Conv2D)             (None, 7, 7, 128)    65664       ['activation_17[0][0]']          \n",
            "                                                                                                  \n",
            " batch_normalization_18 (BatchN  (None, 7, 7, 128)   512         ['conv2d_18[0][0]']              \n",
            " ormalization)                                                                                    \n",
            "                                                                                                  \n",
            " activation_18 (Activation)     (None, 7, 7, 128)    0           ['batch_normalization_18[0][0]'] \n",
            "                                                                                                  \n",
            " conv2d_19 (Conv2D)             (None, 7, 7, 128)    147584      ['activation_18[0][0]']          \n",
            "                                                                                                  \n",
            " batch_normalization_19 (BatchN  (None, 7, 7, 128)   512         ['conv2d_19[0][0]']              \n",
            " ormalization)                                                                                    \n",
            "                                                                                                  \n",
            " activation_19 (Activation)     (None, 7, 7, 128)    0           ['batch_normalization_19[0][0]'] \n",
            "                                                                                                  \n",
            " conv2d_20 (Conv2D)             (None, 7, 7, 512)    66048       ['activation_19[0][0]']          \n",
            "                                                                                                  \n",
            " batch_normalization_20 (BatchN  (None, 7, 7, 512)   2048        ['conv2d_20[0][0]']              \n",
            " ormalization)                                                                                    \n",
            "                                                                                                  \n",
            " add_7 (Add)                    (None, 7, 7, 512)    0           ['activation_17[0][0]',          \n",
            "                                                                  'batch_normalization_20[0][0]'] \n",
            "                                                                                                  \n",
            " activation_20 (Activation)     (None, 7, 7, 512)    0           ['add_7[0][0]']                  \n",
            "                                                                                                  \n",
            " conv2d_21 (Conv2D)             (None, 7, 7, 128)    65664       ['activation_20[0][0]']          \n",
            "                                                                                                  \n",
            " batch_normalization_21 (BatchN  (None, 7, 7, 128)   512         ['conv2d_21[0][0]']              \n",
            " ormalization)                                                                                    \n",
            "                                                                                                  \n",
            " activation_21 (Activation)     (None, 7, 7, 128)    0           ['batch_normalization_21[0][0]'] \n",
            "                                                                                                  \n",
            " conv2d_22 (Conv2D)             (None, 7, 7, 128)    147584      ['activation_21[0][0]']          \n",
            "                                                                                                  \n",
            " batch_normalization_22 (BatchN  (None, 7, 7, 128)   512         ['conv2d_22[0][0]']              \n",
            " ormalization)                                                                                    \n",
            "                                                                                                  \n",
            " activation_22 (Activation)     (None, 7, 7, 128)    0           ['batch_normalization_22[0][0]'] \n",
            "                                                                                                  \n",
            " conv2d_23 (Conv2D)             (None, 7, 7, 512)    66048       ['activation_22[0][0]']          \n",
            "                                                                                                  \n",
            " batch_normalization_23 (BatchN  (None, 7, 7, 512)   2048        ['conv2d_23[0][0]']              \n",
            " ormalization)                                                                                    \n",
            "                                                                                                  \n",
            " add_8 (Add)                    (None, 7, 7, 512)    0           ['activation_20[0][0]',          \n",
            "                                                                  'batch_normalization_23[0][0]'] \n",
            "                                                                                                  \n",
            " activation_23 (Activation)     (None, 7, 7, 512)    0           ['add_8[0][0]']                  \n",
            "                                                                                                  \n",
            " conv2d_24 (Conv2D)             (None, 7, 7, 256)    131328      ['activation_23[0][0]']          \n",
            "                                                                                                  \n",
            " batch_normalization_24 (BatchN  (None, 7, 7, 256)   1024        ['conv2d_24[0][0]']              \n",
            " ormalization)                                                                                    \n",
            "                                                                                                  \n",
            " activation_24 (Activation)     (None, 7, 7, 256)    0           ['batch_normalization_24[0][0]'] \n",
            "                                                                                                  \n",
            " conv2d_25 (Conv2D)             (None, 4, 4, 256)    590080      ['activation_24[0][0]']          \n",
            "                                                                                                  \n",
            " batch_normalization_25 (BatchN  (None, 4, 4, 256)   1024        ['conv2d_25[0][0]']              \n",
            " ormalization)                                                                                    \n",
            "                                                                                                  \n",
            " activation_25 (Activation)     (None, 4, 4, 256)    0           ['batch_normalization_25[0][0]'] \n",
            "                                                                                                  \n",
            " conv2d_27 (Conv2D)             (None, 4, 4, 1024)   525312      ['activation_23[0][0]']          \n",
            "                                                                                                  \n",
            " conv2d_26 (Conv2D)             (None, 4, 4, 1024)   263168      ['activation_25[0][0]']          \n",
            "                                                                                                  \n",
            " batch_normalization_27 (BatchN  (None, 4, 4, 1024)  4096        ['conv2d_27[0][0]']              \n",
            " ormalization)                                                                                    \n",
            "                                                                                                  \n",
            " batch_normalization_26 (BatchN  (None, 4, 4, 1024)  4096        ['conv2d_26[0][0]']              \n",
            " ormalization)                                                                                    \n",
            "                                                                                                  \n",
            " add_9 (Add)                    (None, 4, 4, 1024)   0           ['batch_normalization_27[0][0]', \n",
            "                                                                  'batch_normalization_26[0][0]'] \n",
            "                                                                                                  \n",
            " activation_26 (Activation)     (None, 4, 4, 1024)   0           ['add_9[0][0]']                  \n",
            "                                                                                                  \n",
            " add_10 (Add)                   (None, 4, 4, 1024)   0           ['activation_26[0][0]',          \n",
            "                                                                  'batch_normalization_27[0][0]'] \n",
            "                                                                                                  \n",
            " activation_27 (Activation)     (None, 4, 4, 1024)   0           ['add_10[0][0]']                 \n",
            "                                                                                                  \n",
            " conv2d_28 (Conv2D)             (None, 4, 4, 256)    262400      ['activation_27[0][0]']          \n",
            "                                                                                                  \n",
            " batch_normalization_28 (BatchN  (None, 4, 4, 256)   1024        ['conv2d_28[0][0]']              \n",
            " ormalization)                                                                                    \n",
            "                                                                                                  \n",
            " activation_28 (Activation)     (None, 4, 4, 256)    0           ['batch_normalization_28[0][0]'] \n",
            "                                                                                                  \n",
            " conv2d_29 (Conv2D)             (None, 4, 4, 256)    590080      ['activation_28[0][0]']          \n",
            "                                                                                                  \n",
            " batch_normalization_29 (BatchN  (None, 4, 4, 256)   1024        ['conv2d_29[0][0]']              \n",
            " ormalization)                                                                                    \n",
            "                                                                                                  \n",
            " activation_29 (Activation)     (None, 4, 4, 256)    0           ['batch_normalization_29[0][0]'] \n",
            "                                                                                                  \n",
            " conv2d_30 (Conv2D)             (None, 4, 4, 1024)   263168      ['activation_29[0][0]']          \n",
            "                                                                                                  \n",
            " batch_normalization_30 (BatchN  (None, 4, 4, 1024)  4096        ['conv2d_30[0][0]']              \n",
            " ormalization)                                                                                    \n",
            "                                                                                                  \n",
            " add_11 (Add)                   (None, 4, 4, 1024)   0           ['activation_27[0][0]',          \n",
            "                                                                  'batch_normalization_30[0][0]'] \n",
            "                                                                                                  \n",
            " activation_30 (Activation)     (None, 4, 4, 1024)   0           ['add_11[0][0]']                 \n",
            "                                                                                                  \n",
            " conv2d_31 (Conv2D)             (None, 4, 4, 256)    262400      ['activation_30[0][0]']          \n",
            "                                                                                                  \n",
            " batch_normalization_31 (BatchN  (None, 4, 4, 256)   1024        ['conv2d_31[0][0]']              \n",
            " ormalization)                                                                                    \n",
            "                                                                                                  \n",
            " activation_31 (Activation)     (None, 4, 4, 256)    0           ['batch_normalization_31[0][0]'] \n",
            "                                                                                                  \n",
            " conv2d_32 (Conv2D)             (None, 4, 4, 256)    590080      ['activation_31[0][0]']          \n",
            "                                                                                                  \n",
            " batch_normalization_32 (BatchN  (None, 4, 4, 256)   1024        ['conv2d_32[0][0]']              \n",
            " ormalization)                                                                                    \n",
            "                                                                                                  \n",
            " activation_32 (Activation)     (None, 4, 4, 256)    0           ['batch_normalization_32[0][0]'] \n",
            "                                                                                                  \n",
            " conv2d_33 (Conv2D)             (None, 4, 4, 1024)   263168      ['activation_32[0][0]']          \n",
            "                                                                                                  \n",
            " batch_normalization_33 (BatchN  (None, 4, 4, 1024)  4096        ['conv2d_33[0][0]']              \n",
            " ormalization)                                                                                    \n",
            "                                                                                                  \n",
            " add_12 (Add)                   (None, 4, 4, 1024)   0           ['activation_30[0][0]',          \n",
            "                                                                  'batch_normalization_33[0][0]'] \n",
            "                                                                                                  \n",
            " activation_33 (Activation)     (None, 4, 4, 1024)   0           ['add_12[0][0]']                 \n",
            "                                                                                                  \n",
            " conv2d_34 (Conv2D)             (None, 4, 4, 256)    262400      ['activation_33[0][0]']          \n",
            "                                                                                                  \n",
            " batch_normalization_34 (BatchN  (None, 4, 4, 256)   1024        ['conv2d_34[0][0]']              \n",
            " ormalization)                                                                                    \n",
            "                                                                                                  \n",
            " activation_34 (Activation)     (None, 4, 4, 256)    0           ['batch_normalization_34[0][0]'] \n",
            "                                                                                                  \n",
            " conv2d_35 (Conv2D)             (None, 4, 4, 256)    590080      ['activation_34[0][0]']          \n",
            "                                                                                                  \n",
            " batch_normalization_35 (BatchN  (None, 4, 4, 256)   1024        ['conv2d_35[0][0]']              \n",
            " ormalization)                                                                                    \n",
            "                                                                                                  \n",
            " activation_35 (Activation)     (None, 4, 4, 256)    0           ['batch_normalization_35[0][0]'] \n",
            "                                                                                                  \n",
            " conv2d_36 (Conv2D)             (None, 4, 4, 1024)   263168      ['activation_35[0][0]']          \n",
            "                                                                                                  \n",
            " batch_normalization_36 (BatchN  (None, 4, 4, 1024)  4096        ['conv2d_36[0][0]']              \n",
            " ormalization)                                                                                    \n",
            "                                                                                                  \n",
            " add_13 (Add)                   (None, 4, 4, 1024)   0           ['activation_33[0][0]',          \n",
            "                                                                  'batch_normalization_36[0][0]'] \n",
            "                                                                                                  \n",
            " activation_36 (Activation)     (None, 4, 4, 1024)   0           ['add_13[0][0]']                 \n",
            "                                                                                                  \n",
            " conv2d_37 (Conv2D)             (None, 4, 4, 256)    262400      ['activation_36[0][0]']          \n",
            "                                                                                                  \n",
            " batch_normalization_37 (BatchN  (None, 4, 4, 256)   1024        ['conv2d_37[0][0]']              \n",
            " ormalization)                                                                                    \n",
            "                                                                                                  \n",
            " activation_37 (Activation)     (None, 4, 4, 256)    0           ['batch_normalization_37[0][0]'] \n",
            "                                                                                                  \n",
            " conv2d_38 (Conv2D)             (None, 4, 4, 256)    590080      ['activation_37[0][0]']          \n",
            "                                                                                                  \n",
            " batch_normalization_38 (BatchN  (None, 4, 4, 256)   1024        ['conv2d_38[0][0]']              \n",
            " ormalization)                                                                                    \n",
            "                                                                                                  \n",
            " activation_38 (Activation)     (None, 4, 4, 256)    0           ['batch_normalization_38[0][0]'] \n",
            "                                                                                                  \n",
            " conv2d_39 (Conv2D)             (None, 4, 4, 1024)   263168      ['activation_38[0][0]']          \n",
            "                                                                                                  \n",
            " batch_normalization_39 (BatchN  (None, 4, 4, 1024)  4096        ['conv2d_39[0][0]']              \n",
            " ormalization)                                                                                    \n",
            "                                                                                                  \n",
            " add_14 (Add)                   (None, 4, 4, 1024)   0           ['activation_36[0][0]',          \n",
            "                                                                  'batch_normalization_39[0][0]'] \n",
            "                                                                                                  \n",
            " activation_39 (Activation)     (None, 4, 4, 1024)   0           ['add_14[0][0]']                 \n",
            "                                                                                                  \n",
            " conv2d_40 (Conv2D)             (None, 4, 4, 256)    262400      ['activation_39[0][0]']          \n",
            "                                                                                                  \n",
            " batch_normalization_40 (BatchN  (None, 4, 4, 256)   1024        ['conv2d_40[0][0]']              \n",
            " ormalization)                                                                                    \n",
            "                                                                                                  \n",
            " activation_40 (Activation)     (None, 4, 4, 256)    0           ['batch_normalization_40[0][0]'] \n",
            "                                                                                                  \n",
            " conv2d_41 (Conv2D)             (None, 4, 4, 256)    590080      ['activation_40[0][0]']          \n",
            "                                                                                                  \n",
            " batch_normalization_41 (BatchN  (None, 4, 4, 256)   1024        ['conv2d_41[0][0]']              \n",
            " ormalization)                                                                                    \n",
            "                                                                                                  \n",
            " activation_41 (Activation)     (None, 4, 4, 256)    0           ['batch_normalization_41[0][0]'] \n",
            "                                                                                                  \n",
            " conv2d_42 (Conv2D)             (None, 4, 4, 1024)   263168      ['activation_41[0][0]']          \n",
            "                                                                                                  \n",
            " batch_normalization_42 (BatchN  (None, 4, 4, 1024)  4096        ['conv2d_42[0][0]']              \n",
            " ormalization)                                                                                    \n",
            "                                                                                                  \n",
            " add_15 (Add)                   (None, 4, 4, 1024)   0           ['activation_39[0][0]',          \n",
            "                                                                  'batch_normalization_42[0][0]'] \n",
            "                                                                                                  \n",
            " activation_42 (Activation)     (None, 4, 4, 1024)   0           ['add_15[0][0]']                 \n",
            "                                                                                                  \n",
            " average_pooling2d (AveragePool  (None, 2, 2, 1024)  0           ['activation_42[0][0]']          \n",
            " ing2D)                                                                                           \n",
            "                                                                                                  \n",
            " flatten (Flatten)              (None, 4096)         0           ['average_pooling2d[0][0]']      \n",
            "                                                                                                  \n",
            " dense (Dense)                  (None, 24)           98328       ['flatten[0][0]']                \n",
            "                                                                                                  \n",
            "==================================================================================================\n",
            "Total params: 8,679,704\n",
            "Trainable params: 8,649,112\n",
            "Non-trainable params: 30,592\n",
            "__________________________________________________________________________________________________\n",
            "None\n"
          ]
        }
      ]
    },
    {
      "cell_type": "markdown",
      "source": [
        "` The model is ready to be trained `"
      ],
      "metadata": {
        "id": "5QyZXzLOo_Pp"
      }
    },
    {
      "cell_type": "code",
      "source": [
        "# onehot encoding the labels\n",
        "# for that lsets use pandas.getdummies method\n",
        "train_y = pd.pandas.get_dummies(train_y)\n",
        "dev_y   = pd.pandas.get_dummies(dev_y)\n",
        "blind_y = pd.pandas.get_dummies(blind_y)"
      ],
      "metadata": {
        "execution": {
          "iopub.status.busy": "2022-04-03T13:09:46.380560Z",
          "iopub.execute_input": "2022-04-03T13:09:46.380810Z",
          "iopub.status.idle": "2022-04-03T13:09:46.394940Z",
          "shell.execute_reply.started": "2022-04-03T13:09:46.380777Z",
          "shell.execute_reply": "2022-04-03T13:09:46.394065Z"
        },
        "trusted": true,
        "id": "262iZKWTo_Pp"
      },
      "execution_count": 24,
      "outputs": []
    },
    {
      "cell_type": "code",
      "source": [
        "train_y.columns "
      ],
      "metadata": {
        "execution": {
          "iopub.status.busy": "2022-04-03T13:09:46.396168Z",
          "iopub.execute_input": "2022-04-03T13:09:46.396565Z",
          "iopub.status.idle": "2022-04-03T13:09:46.402432Z",
          "shell.execute_reply.started": "2022-04-03T13:09:46.396514Z",
          "shell.execute_reply": "2022-04-03T13:09:46.401590Z"
        },
        "trusted": true,
        "colab": {
          "base_uri": "https://localhost:8080/"
        },
        "id": "cYod_c0No_Pp",
        "outputId": "956c1997-9494-4314-ab43-a6682c5bee0c"
      },
      "execution_count": 25,
      "outputs": [
        {
          "output_type": "execute_result",
          "data": {
            "text/plain": [
              "Int64Index([ 0,  1,  2,  3,  4,  5,  6,  7,  8, 10, 11, 12, 13, 14, 15, 16, 17,\n",
              "            18, 19, 20, 21, 22, 23, 24],\n",
              "           dtype='int64')"
            ]
          },
          "metadata": {},
          "execution_count": 25
        }
      ]
    },
    {
      "cell_type": "code",
      "source": [
        "dev_y.columns "
      ],
      "metadata": {
        "execution": {
          "iopub.status.busy": "2022-04-03T13:09:46.495799Z",
          "iopub.execute_input": "2022-04-03T13:09:46.496086Z",
          "iopub.status.idle": "2022-04-03T13:09:46.501321Z",
          "shell.execute_reply.started": "2022-04-03T13:09:46.496057Z",
          "shell.execute_reply": "2022-04-03T13:09:46.500547Z"
        },
        "trusted": true,
        "colab": {
          "base_uri": "https://localhost:8080/"
        },
        "id": "b8T5H5HDo_Pq",
        "outputId": "c6190301-a300-48f8-8d7e-cbdc20c7db03"
      },
      "execution_count": 26,
      "outputs": [
        {
          "output_type": "execute_result",
          "data": {
            "text/plain": [
              "Int64Index([ 0,  1,  2,  3,  4,  5,  6,  7,  8, 10, 11, 12, 13, 14, 15, 16, 17,\n",
              "            18, 19, 20, 21, 22, 23, 24],\n",
              "           dtype='int64')"
            ]
          },
          "metadata": {},
          "execution_count": 26
        }
      ]
    },
    {
      "cell_type": "code",
      "source": [
        "# now compiling the model\n",
        "model.compile(optimizer=\"adam\",metrics=[\"accuracy\"],loss = \"categorical_crossentropy\")"
      ],
      "metadata": {
        "execution": {
          "iopub.status.busy": "2022-04-03T13:09:46.711110Z",
          "iopub.execute_input": "2022-04-03T13:09:46.711958Z",
          "iopub.status.idle": "2022-04-03T13:09:46.727943Z",
          "shell.execute_reply.started": "2022-04-03T13:09:46.711909Z",
          "shell.execute_reply": "2022-04-03T13:09:46.727089Z"
        },
        "trusted": true,
        "id": "sB-DUN5Io_Pq"
      },
      "execution_count": 27,
      "outputs": []
    },
    {
      "cell_type": "code",
      "source": [
        "# data augmentation\n",
        "datagen = tf.keras.preprocessing.image.ImageDataGenerator(\n",
        "        rotation_range=10,  \n",
        "        zoom_range = 0.1,  \n",
        "        width_shift_range=0.1, \n",
        "        height_shift_range=0.1)"
      ],
      "metadata": {
        "execution": {
          "iopub.status.busy": "2022-04-03T13:09:46.885326Z",
          "iopub.execute_input": "2022-04-03T13:09:46.885673Z",
          "iopub.status.idle": "2022-04-03T13:09:46.890838Z",
          "shell.execute_reply.started": "2022-04-03T13:09:46.885629Z",
          "shell.execute_reply": "2022-04-03T13:09:46.889891Z"
        },
        "trusted": true,
        "id": "B2Nk6f-xo_Pq"
      },
      "execution_count": 28,
      "outputs": []
    },
    {
      "cell_type": "code",
      "source": [
        "best_model =tf.keras.callbacks.ModelCheckpoint(\"best.h5\",monitor=\"val_accuracy\")\n"
      ],
      "metadata": {
        "execution": {
          "iopub.status.busy": "2022-04-03T13:09:47.077611Z",
          "iopub.execute_input": "2022-04-03T13:09:47.077852Z",
          "iopub.status.idle": "2022-04-03T13:09:47.081241Z",
          "shell.execute_reply.started": "2022-04-03T13:09:47.077816Z",
          "shell.execute_reply": "2022-04-03T13:09:47.080584Z"
        },
        "trusted": true,
        "id": "ypfLHxU3o_Pq"
      },
      "execution_count": 29,
      "outputs": []
    },
    {
      "cell_type": "code",
      "source": [
        "history = model.fit_generator(datagen.flow(train_x,train_y,batch_size=64),validation_data =datagen.flow(dev_x,dev_y),epochs =10,callbacks=[best_model])"
      ],
      "metadata": {
        "execution": {
          "iopub.status.busy": "2022-04-03T13:09:47.442454Z",
          "iopub.execute_input": "2022-04-03T13:09:47.443005Z",
          "iopub.status.idle": "2022-04-03T13:13:23.563983Z",
          "shell.execute_reply.started": "2022-04-03T13:09:47.442966Z",
          "shell.execute_reply": "2022-04-03T13:13:23.563129Z"
        },
        "trusted": true,
        "colab": {
          "base_uri": "https://localhost:8080/"
        },
        "id": "ZGWUAB_lo_Pq",
        "outputId": "104e3997-604b-4776-d4ce-c4a84c551b27"
      },
      "execution_count": 30,
      "outputs": [
        {
          "output_type": "stream",
          "name": "stdout",
          "text": [
            "Epoch 1/10\n"
          ]
        },
        {
          "output_type": "stream",
          "name": "stderr",
          "text": [
            "<ipython-input-30-54b717a1f914>:1: UserWarning:\n",
            "\n",
            "`Model.fit_generator` is deprecated and will be removed in a future version. Please use `Model.fit`, which supports generators.\n",
            "\n"
          ]
        },
        {
          "output_type": "stream",
          "name": "stdout",
          "text": [
            "429/429 [==============================] - 80s 70ms/step - loss: 1.5719 - accuracy: 0.6962 - val_loss: 0.3590 - val_accuracy: 0.8947\n",
            "Epoch 2/10\n",
            "429/429 [==============================] - 27s 63ms/step - loss: 0.1492 - accuracy: 0.9550 - val_loss: 0.2355 - val_accuracy: 0.9358\n",
            "Epoch 3/10\n",
            "429/429 [==============================] - 27s 63ms/step - loss: 0.0803 - accuracy: 0.9753 - val_loss: 0.3158 - val_accuracy: 0.9240\n",
            "Epoch 4/10\n",
            "429/429 [==============================] - 28s 65ms/step - loss: 0.0790 - accuracy: 0.9779 - val_loss: 0.0842 - val_accuracy: 0.9763\n",
            "Epoch 5/10\n",
            "429/429 [==============================] - 27s 64ms/step - loss: 0.0640 - accuracy: 0.9842 - val_loss: 0.0981 - val_accuracy: 0.9756\n",
            "Epoch 6/10\n",
            "429/429 [==============================] - 27s 64ms/step - loss: 0.0627 - accuracy: 0.9840 - val_loss: 0.1311 - val_accuracy: 0.9770\n",
            "Epoch 7/10\n",
            "429/429 [==============================] - 27s 64ms/step - loss: 0.0374 - accuracy: 0.9903 - val_loss: 0.0851 - val_accuracy: 0.9847\n",
            "Epoch 8/10\n",
            "429/429 [==============================] - 28s 65ms/step - loss: 0.0367 - accuracy: 0.9907 - val_loss: 0.1800 - val_accuracy: 0.9449\n",
            "Epoch 9/10\n",
            "429/429 [==============================] - 28s 64ms/step - loss: 0.0428 - accuracy: 0.9886 - val_loss: 0.1850 - val_accuracy: 0.9637\n",
            "Epoch 10/10\n",
            "429/429 [==============================] - 28s 66ms/step - loss: 0.0545 - accuracy: 0.9862 - val_loss: 0.1440 - val_accuracy: 0.9630\n"
          ]
        }
      ]
    },
    {
      "cell_type": "code",
      "source": [
        "model.load_weights(\"best.h5\")"
      ],
      "metadata": {
        "execution": {
          "iopub.status.busy": "2022-04-03T13:13:23.565816Z",
          "iopub.execute_input": "2022-04-03T13:13:23.566064Z",
          "iopub.status.idle": "2022-04-03T13:13:23.807308Z",
          "shell.execute_reply.started": "2022-04-03T13:13:23.566030Z",
          "shell.execute_reply": "2022-04-03T13:13:23.806582Z"
        },
        "trusted": true,
        "id": "1sCGntg-o_Pq"
      },
      "execution_count": 31,
      "outputs": []
    },
    {
      "cell_type": "code",
      "source": [
        "X = range(len(history.history[\"loss\"]))\n",
        "train_loss = history.history[\"loss\"]\n",
        "val_loss =history.history[\"val_loss\"]\n",
        "train_acc = history.history[\"accuracy\"]\n",
        "val_accuracy =history.history[\"val_accuracy\"]"
      ],
      "metadata": {
        "execution": {
          "iopub.status.busy": "2022-04-03T13:13:23.808450Z",
          "iopub.execute_input": "2022-04-03T13:13:23.810830Z",
          "iopub.status.idle": "2022-04-03T13:13:23.816009Z",
          "shell.execute_reply.started": "2022-04-03T13:13:23.810797Z",
          "shell.execute_reply": "2022-04-03T13:13:23.815228Z"
        },
        "trusted": true,
        "id": "2JcqWI8mo_Pq"
      },
      "execution_count": 32,
      "outputs": []
    },
    {
      "cell_type": "code",
      "source": [
        "# show the performance \n",
        "import seaborn as sns \n",
        "plt.style.use(\"seaborn\")\n",
        "plt.figure()\n",
        "plt.title(\"Loss history\")\n",
        "sns.lineplot(x=X,y=train_loss,label=\"Train\",marker=\"o\")\n",
        "sns.lineplot(x=X,y=val_loss,label=\"val\",marker=\"o\")\n",
        "plt.show()\n",
        "plt.figure()\n",
        "plt.title(\"Accuracy history\")\n",
        "sns.lineplot(x=X,y=train_acc,label=\"Train\",marker=\"o\")\n",
        "sns.lineplot(x=X,y=val_accuracy,label=\"val\",marker=\"o\")\n",
        "plt.show()"
      ],
      "metadata": {
        "execution": {
          "iopub.status.busy": "2022-04-03T13:13:23.818806Z",
          "iopub.execute_input": "2022-04-03T13:13:23.819075Z",
          "iopub.status.idle": "2022-04-03T13:13:24.278115Z",
          "shell.execute_reply.started": "2022-04-03T13:13:23.819042Z",
          "shell.execute_reply": "2022-04-03T13:13:24.277421Z"
        },
        "trusted": true,
        "colab": {
          "base_uri": "https://localhost:8080/",
          "height": 1000
        },
        "id": "62bdDWLYo_Pr",
        "outputId": "0ce40723-2784-409f-ae90-5b5ff7bea9f9"
      },
      "execution_count": 33,
      "outputs": [
        {
          "output_type": "stream",
          "name": "stderr",
          "text": [
            "<ipython-input-33-c887a675ab3c>:3: MatplotlibDeprecationWarning:\n",
            "\n",
            "The seaborn styles shipped by Matplotlib are deprecated since 3.6, as they no longer correspond to the styles shipped by seaborn. However, they will remain available as 'seaborn-v0_8-<style>'. Alternatively, directly use the seaborn API instead.\n",
            "\n"
          ]
        },
        {
          "output_type": "display_data",
          "data": {
            "text/plain": [
              "<Figure size 800x550 with 1 Axes>"
            ],
            "image/png": "[encoded data removed]"
          },
          "metadata": {}
        },
        {
          "output_type": "display_data",
          "data": {
            "text/plain": [
              "<Figure size 800x550 with 1 Axes>"
            ],
            "image/png": "[encoded data removed]"
          },
          "metadata": {}
        }
      ]
    },
    {
      "cell_type": "code",
      "source": [
        "model.evaluate(blind_x,blind_y)"
      ],
      "metadata": {
        "execution": {
          "iopub.status.busy": "2022-04-03T13:13:24.279245Z",
          "iopub.execute_input": "2022-04-03T13:13:24.280685Z",
          "iopub.status.idle": "2022-04-03T13:13:30.288773Z",
          "shell.execute_reply.started": "2022-04-03T13:13:24.280634Z",
          "shell.execute_reply": "2022-04-03T13:13:30.287878Z"
        },
        "trusted": true,
        "colab": {
          "base_uri": "https://localhost:8080/"
        },
        "id": "r9bcBFaBo_Pr",
        "outputId": "eddc45fa-2380-4820-8999-44f5f6b3ad39"
      },
      "execution_count": 34,
      "outputs": [
        {
          "output_type": "stream",
          "name": "stdout",
          "text": [
            "180/180 [==============================] - 3s 14ms/step - loss: 0.1333 - accuracy: 0.9824\n"
          ]
        },
        {
          "output_type": "execute_result",
          "data": {
            "text/plain": [
              "[0.13334815204143524, 0.9823980331420898]"
            ]
          },
          "metadata": {},
          "execution_count": 34
        }
      ]
    },
    {
      "cell_type": "markdown",
      "source": [
        "#### we observe that the model performance is good and by inceasing the epochs the model can get better"
      ],
      "metadata": {
        "id": "l-50Q7e_o_Pr"
      }
    },
    {
      "cell_type": "markdown",
      "source": [
        "<a id=\"section-six\"></a>\n",
        "# <div style=\"color:#fff;display:fill;border-radius:10px;background-color:#0C2D48;text-align:center;letter-spacing:0.1px;overflow:hidden;padding:20px;color:white;overflow:hidden;margin:0;font-size:100%\">Visualize model performance</div>"
      ],
      "metadata": {
        "id": "IEfDERPRo_Pr"
      }
    },
    {
      "cell_type": "code",
      "source": [
        "letters =\"ABCDEFGHIKLMNOPQRSTUVWXY\"\n",
        "dic={}\n",
        "for i in range(len(letters)):\n",
        "    if i>=9:\n",
        "        dic[i+1]=letters[i]\n",
        "    else:\n",
        "        dic[i]=letters[i]"
      ],
      "metadata": {
        "execution": {
          "iopub.status.busy": "2022-04-03T13:13:30.290107Z",
          "iopub.execute_input": "2022-04-03T13:13:30.290547Z",
          "iopub.status.idle": "2022-04-03T13:13:30.296200Z",
          "shell.execute_reply.started": "2022-04-03T13:13:30.290492Z",
          "shell.execute_reply": "2022-04-03T13:13:30.295358Z"
        },
        "trusted": true,
        "id": "uLzz3NLEo_Pr"
      },
      "execution_count": 35,
      "outputs": []
    },
    {
      "cell_type": "code",
      "source": [
        "dic"
      ],
      "metadata": {
        "execution": {
          "iopub.status.busy": "2022-04-03T13:13:30.297801Z",
          "iopub.execute_input": "2022-04-03T13:13:30.298648Z",
          "iopub.status.idle": "2022-04-03T13:13:30.314427Z",
          "shell.execute_reply.started": "2022-04-03T13:13:30.298590Z",
          "shell.execute_reply": "2022-04-03T13:13:30.313779Z"
        },
        "trusted": true,
        "colab": {
          "base_uri": "https://localhost:8080/"
        },
        "id": "BgNyFMslo_Pr",
        "outputId": "f0d05f9e-8cc2-4010-d77e-882cb620097e"
      },
      "execution_count": 36,
      "outputs": [
        {
          "output_type": "execute_result",
          "data": {
            "text/plain": [
              "{0: 'A',\n",
              " 1: 'B',\n",
              " 2: 'C',\n",
              " 3: 'D',\n",
              " 4: 'E',\n",
              " 5: 'F',\n",
              " 6: 'G',\n",
              " 7: 'H',\n",
              " 8: 'I',\n",
              " 10: 'K',\n",
              " 11: 'L',\n",
              " 12: 'M',\n",
              " 13: 'N',\n",
              " 14: 'O',\n",
              " 15: 'P',\n",
              " 16: 'Q',\n",
              " 17: 'R',\n",
              " 18: 'S',\n",
              " 19: 'T',\n",
              " 20: 'U',\n",
              " 21: 'V',\n",
              " 22: 'W',\n",
              " 23: 'X',\n",
              " 24: 'Y'}"
            ]
          },
          "metadata": {},
          "execution_count": 36
        }
      ]
    },
    {
      "cell_type": "code",
      "source": [
        "train_y.columns "
      ],
      "metadata": {
        "execution": {
          "iopub.status.busy": "2022-04-03T13:13:30.317725Z",
          "iopub.execute_input": "2022-04-03T13:13:30.317987Z",
          "iopub.status.idle": "2022-04-03T13:13:30.324887Z",
          "shell.execute_reply.started": "2022-04-03T13:13:30.317953Z",
          "shell.execute_reply": "2022-04-03T13:13:30.324073Z"
        },
        "trusted": true,
        "colab": {
          "base_uri": "https://localhost:8080/"
        },
        "id": "-JGKdTnzo_Ps",
        "outputId": "502548f7-8229-42c9-f916-af0b1c3f2b73"
      },
      "execution_count": 37,
      "outputs": [
        {
          "output_type": "execute_result",
          "data": {
            "text/plain": [
              "Int64Index([ 0,  1,  2,  3,  4,  5,  6,  7,  8, 10, 11, 12, 13, 14, 15, 16, 17,\n",
              "            18, 19, 20, 21, 22, 23, 24],\n",
              "           dtype='int64')"
            ]
          },
          "metadata": {},
          "execution_count": 37
        }
      ]
    },
    {
      "cell_type": "code",
      "source": [
        "# making a fuction that predict digit \n",
        "def prdict(image):\n",
        "    image =image.reshape(1,28,28,1)\n",
        "    labels = list(dic.keys()) \n",
        "    probalility_prdicted = model.predict(image)\n",
        "    predicted_digit = labels[np.argmax(probalility_prdicted)]\n",
        "    return predicted_digit"
      ],
      "metadata": {
        "execution": {
          "iopub.status.busy": "2022-04-03T13:13:30.326449Z",
          "iopub.execute_input": "2022-04-03T13:13:30.326711Z",
          "iopub.status.idle": "2022-04-03T13:13:30.334669Z",
          "shell.execute_reply.started": "2022-04-03T13:13:30.326678Z",
          "shell.execute_reply": "2022-04-03T13:13:30.333775Z"
        },
        "trusted": true,
        "id": "42WkamwQo_Ps"
      },
      "execution_count": 38,
      "outputs": []
    },
    {
      "cell_type": "code",
      "source": [
        "prdict(blind_x[0].reshape(1,28,28,1))"
      ],
      "metadata": {
        "execution": {
          "iopub.status.busy": "2022-04-03T13:13:30.337611Z",
          "iopub.execute_input": "2022-04-03T13:13:30.337938Z",
          "iopub.status.idle": "2022-04-03T13:13:31.109972Z",
          "shell.execute_reply.started": "2022-04-03T13:13:30.337902Z",
          "shell.execute_reply": "2022-04-03T13:13:31.109312Z"
        },
        "trusted": true,
        "colab": {
          "base_uri": "https://localhost:8080/"
        },
        "id": "iORYMacxo_Ps",
        "outputId": "08b15237-0c73-49e3-b231-6ca09d325837"
      },
      "execution_count": 39,
      "outputs": [
        {
          "output_type": "stream",
          "name": "stdout",
          "text": [
            "1/1 [==============================] - 1s 1s/step\n"
          ]
        },
        {
          "output_type": "execute_result",
          "data": {
            "text/plain": [
              "23"
            ]
          },
          "metadata": {},
          "execution_count": 39
        }
      ]
    },
    {
      "cell_type": "code",
      "source": [
        "# get some random index fro the train\n",
        "random_index = np.random.choice(range(len(blind_x)),12)\n",
        "# show the 12 random images \n",
        "plt.figure(figsize=(15,15))\n",
        "for i in range(12):\n",
        "    plt.subplot(3,4,i+1)\n",
        "    predicted_digit = prdict(blind_x[random_index[i]])\n",
        "    plt.imshow(blind_x[random_index[i]],cmap=plt.get_cmap(\"gray\"))\n",
        "    # the actual class \n",
        "    actual_class= test_classes.iloc[random_index[i]]\n",
        "    # the actual letter \n",
        "    actual_letter = dic[actual_class]\n",
        "    # the predicted letter \n",
        "    predicted_letter = dic[predicted_digit]\n",
        "    \n",
        "    plt.title(f\"Model Prediction: {predicted_letter}\\nActual: {actual_letter}\")\n",
        "    plt.axis(\"off\")\n",
        "plt.tight_layout()\n",
        "plt.show() "
      ],
      "metadata": {
        "execution": {
          "iopub.status.busy": "2022-04-03T13:14:23.492697Z",
          "iopub.execute_input": "2022-04-03T13:14:23.492950Z",
          "iopub.status.idle": "2022-04-03T13:14:24.610923Z",
          "shell.execute_reply.started": "2022-04-03T13:14:23.492921Z",
          "shell.execute_reply": "2022-04-03T13:14:24.610203Z"
        },
        "trusted": true,
        "colab": {
          "base_uri": "https://localhost:8080/",
          "height": 1000
        },
        "id": "MuAYNyjFo_Ps",
        "outputId": "3e5056db-58c0-4692-876d-66e42811e6cf"
      },
      "execution_count": 40,
      "outputs": [
        {
          "output_type": "stream",
          "name": "stdout",
          "text": [
            "1/1 [==============================] - 0s 24ms/step\n",
            "1/1 [==============================] - 0s 25ms/step\n",
            "1/1 [==============================] - 0s 23ms/step\n",
            "1/1 [==============================] - 0s 23ms/step\n",
            "1/1 [==============================] - 0s 25ms/step\n",
            "1/1 [==============================] - 0s 26ms/step\n",
            "1/1 [==============================] - 0s 25ms/step\n",
            "1/1 [==============================] - 0s 25ms/step\n",
            "1/1 [==============================] - 0s 23ms/step\n",
            "1/1 [==============================] - 0s 23ms/step\n",
            "1/1 [==============================] - 0s 22ms/step\n",
            "1/1 [==============================] - 0s 23ms/step\n"
          ]
        },
        {
          "output_type": "display_data",
          "data": {
            "text/plain": [
              "<Figure size 1500x1500 with 12 Axes>"
            ],
            "image/png": "[encoded data removed]"
          },
          "metadata": {}
        }
      ]
    },
    {
      "cell_type": "code",
      "source": [],
      "metadata": {
        "id": "pNKnmcU7xjwd"
      },
      "execution_count": null,
      "outputs": []
    }
  ]
}